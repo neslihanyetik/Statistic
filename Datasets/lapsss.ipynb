{
 "cells": [
  {
   "cell_type": "code",
   "execution_count": 1,
   "id": "ea88e036-35d2-466c-bada-4c7aeef7deb4",
   "metadata": {},
   "outputs": [],
   "source": [
    "import numpy as np\n",
    "import pandas as pd\n",
    "import matplotlib.pyplot as plt\n",
    "import seaborn as sns\n",
    "from scipy import stats"
   ]
  },
  {
   "cell_type": "markdown",
   "id": "fd25d2e1-804a-4034-bf67-8ccaef14528e",
   "metadata": {},
   "source": [
    "# **Descriptive Statistics**\n"
   ]
  },
  {
   "cell_type": "code",
   "execution_count": 2,
   "id": "7d21d20b-57ff-4550-bfa2-34c1d8fd13c7",
   "metadata": {},
   "outputs": [],
   "source": [
    "df = sns.load_dataset(\"titanic\")"
   ]
  },
  {
   "cell_type": "code",
   "execution_count": 3,
   "id": "b038e95f-534d-433f-9f41-509d1278cd0a",
   "metadata": {},
   "outputs": [
    {
     "data": {
      "text/html": [
       "<div>\n",
       "<style scoped>\n",
       "    .dataframe tbody tr th:only-of-type {\n",
       "        vertical-align: middle;\n",
       "    }\n",
       "\n",
       "    .dataframe tbody tr th {\n",
       "        vertical-align: top;\n",
       "    }\n",
       "\n",
       "    .dataframe thead th {\n",
       "        text-align: right;\n",
       "    }\n",
       "</style>\n",
       "<table border=\"1\" class=\"dataframe\">\n",
       "  <thead>\n",
       "    <tr style=\"text-align: right;\">\n",
       "      <th></th>\n",
       "      <th>survived</th>\n",
       "      <th>pclass</th>\n",
       "      <th>sex</th>\n",
       "      <th>age</th>\n",
       "      <th>sibsp</th>\n",
       "      <th>parch</th>\n",
       "      <th>fare</th>\n",
       "      <th>embarked</th>\n",
       "      <th>class</th>\n",
       "      <th>who</th>\n",
       "      <th>adult_male</th>\n",
       "      <th>deck</th>\n",
       "      <th>embark_town</th>\n",
       "      <th>alive</th>\n",
       "      <th>alone</th>\n",
       "    </tr>\n",
       "  </thead>\n",
       "  <tbody>\n",
       "    <tr>\n",
       "      <th>0</th>\n",
       "      <td>0</td>\n",
       "      <td>3</td>\n",
       "      <td>male</td>\n",
       "      <td>22.0</td>\n",
       "      <td>1</td>\n",
       "      <td>0</td>\n",
       "      <td>7.2500</td>\n",
       "      <td>S</td>\n",
       "      <td>Third</td>\n",
       "      <td>man</td>\n",
       "      <td>True</td>\n",
       "      <td>NaN</td>\n",
       "      <td>Southampton</td>\n",
       "      <td>no</td>\n",
       "      <td>False</td>\n",
       "    </tr>\n",
       "    <tr>\n",
       "      <th>1</th>\n",
       "      <td>1</td>\n",
       "      <td>1</td>\n",
       "      <td>female</td>\n",
       "      <td>38.0</td>\n",
       "      <td>1</td>\n",
       "      <td>0</td>\n",
       "      <td>71.2833</td>\n",
       "      <td>C</td>\n",
       "      <td>First</td>\n",
       "      <td>woman</td>\n",
       "      <td>False</td>\n",
       "      <td>C</td>\n",
       "      <td>Cherbourg</td>\n",
       "      <td>yes</td>\n",
       "      <td>False</td>\n",
       "    </tr>\n",
       "    <tr>\n",
       "      <th>2</th>\n",
       "      <td>1</td>\n",
       "      <td>3</td>\n",
       "      <td>female</td>\n",
       "      <td>26.0</td>\n",
       "      <td>0</td>\n",
       "      <td>0</td>\n",
       "      <td>7.9250</td>\n",
       "      <td>S</td>\n",
       "      <td>Third</td>\n",
       "      <td>woman</td>\n",
       "      <td>False</td>\n",
       "      <td>NaN</td>\n",
       "      <td>Southampton</td>\n",
       "      <td>yes</td>\n",
       "      <td>True</td>\n",
       "    </tr>\n",
       "    <tr>\n",
       "      <th>3</th>\n",
       "      <td>1</td>\n",
       "      <td>1</td>\n",
       "      <td>female</td>\n",
       "      <td>35.0</td>\n",
       "      <td>1</td>\n",
       "      <td>0</td>\n",
       "      <td>53.1000</td>\n",
       "      <td>S</td>\n",
       "      <td>First</td>\n",
       "      <td>woman</td>\n",
       "      <td>False</td>\n",
       "      <td>C</td>\n",
       "      <td>Southampton</td>\n",
       "      <td>yes</td>\n",
       "      <td>False</td>\n",
       "    </tr>\n",
       "    <tr>\n",
       "      <th>4</th>\n",
       "      <td>0</td>\n",
       "      <td>3</td>\n",
       "      <td>male</td>\n",
       "      <td>35.0</td>\n",
       "      <td>0</td>\n",
       "      <td>0</td>\n",
       "      <td>8.0500</td>\n",
       "      <td>S</td>\n",
       "      <td>Third</td>\n",
       "      <td>man</td>\n",
       "      <td>True</td>\n",
       "      <td>NaN</td>\n",
       "      <td>Southampton</td>\n",
       "      <td>no</td>\n",
       "      <td>True</td>\n",
       "    </tr>\n",
       "  </tbody>\n",
       "</table>\n",
       "</div>"
      ],
      "text/plain": [
       "   survived  pclass     sex   age  sibsp  parch     fare embarked  class  \\\n",
       "0         0       3    male  22.0      1      0   7.2500        S  Third   \n",
       "1         1       1  female  38.0      1      0  71.2833        C  First   \n",
       "2         1       3  female  26.0      0      0   7.9250        S  Third   \n",
       "3         1       1  female  35.0      1      0  53.1000        S  First   \n",
       "4         0       3    male  35.0      0      0   8.0500        S  Third   \n",
       "\n",
       "     who  adult_male deck  embark_town alive  alone  \n",
       "0    man        True  NaN  Southampton    no  False  \n",
       "1  woman       False    C    Cherbourg   yes  False  \n",
       "2  woman       False  NaN  Southampton   yes   True  \n",
       "3  woman       False    C  Southampton   yes  False  \n",
       "4    man        True  NaN  Southampton    no   True  "
      ]
     },
     "execution_count": 3,
     "metadata": {},
     "output_type": "execute_result"
    }
   ],
   "source": [
    "df.head()"
   ]
  },
  {
   "cell_type": "code",
   "execution_count": 4,
   "id": "30e62034-caa0-4c1c-8eaf-da470157228f",
   "metadata": {},
   "outputs": [],
   "source": [
    "fare = np.array(df.fare) # df i np ye dönüştürdük."
   ]
  },
  {
   "cell_type": "code",
   "execution_count": 5,
   "id": "d2bb601b-ede3-41a2-9353-2b534a7e4252",
   "metadata": {},
   "outputs": [
    {
     "data": {
      "text/plain": [
       "891"
      ]
     },
     "execution_count": 5,
     "metadata": {},
     "output_type": "execute_result"
    }
   ],
   "source": [
    "len(fare)"
   ]
  },
  {
   "cell_type": "code",
   "execution_count": 6,
   "id": "c0976d0a-3a65-4a67-8e8d-e59327106271",
   "metadata": {},
   "outputs": [
    {
     "data": {
      "text/plain": [
       "32.204207968574636"
      ]
     },
     "execution_count": 6,
     "metadata": {},
     "output_type": "execute_result"
    }
   ],
   "source": [
    "np.mean(fare)"
   ]
  },
  {
   "cell_type": "code",
   "execution_count": 7,
   "id": "8e3e23d0-cddb-4f33-873e-5399fc51ae53",
   "metadata": {},
   "outputs": [
    {
     "data": {
      "text/plain": [
       "14.4542"
      ]
     },
     "execution_count": 7,
     "metadata": {},
     "output_type": "execute_result"
    }
   ],
   "source": [
    "np.median(fare)"
   ]
  },
  {
   "cell_type": "code",
   "execution_count": 8,
   "id": "923e8005-1c89-4bd1-aa37-760e08a863e1",
   "metadata": {},
   "outputs": [
    {
     "data": {
      "image/png": "[encoded data removed]",
      "text/plain": [
       "<Figure size 432x288 with 1 Axes>"
      ]
     },
     "metadata": {
      "needs_background": "light"
     },
     "output_type": "display_data"
    }
   ],
   "source": [
    "plt.hist(fare, bins= \"auto\"); # mean kuyruğa yakın sağa çarpık."
   ]
  },
  {
   "cell_type": "code",
   "execution_count": 9,
   "id": "554818e7-0b2f-4353-9db3-49ba3f061228",
   "metadata": {},
   "outputs": [
    {
     "data": {
      "image/png": "[encoded data removed]",
      "text/plain": [
       "<Figure size 432x288 with 1 Axes>"
      ]
     },
     "metadata": {
      "needs_background": "light"
     },
     "output_type": "display_data"
    }
   ],
   "source": [
    "plt.boxplot(fare); # ouitlier fazla."
   ]
  },
  {
   "cell_type": "code",
   "execution_count": 10,
   "id": "3f70ca82-861a-47c6-9f39-c51549a4e6ff",
   "metadata": {},
   "outputs": [],
   "source": [
    "boolarr = fare < 200 # 200 den küçük olan ücretleri daha yakından ele alacağız."
   ]
  },
  {
   "cell_type": "code",
   "execution_count": 11,
   "id": "5e44c285-a4b9-4eb6-8682-08863d2c85bf",
   "metadata": {},
   "outputs": [],
   "source": [
    "newfare = fare[boolarr] # fare[boolarr] = fare[fare < 200]"
   ]
  },
  {
   "cell_type": "code",
   "execution_count": 12,
   "id": "eb181228-ca9f-488d-8d88-f436f236b6ed",
   "metadata": {},
   "outputs": [
    {
     "data": {
      "image/png": "[encoded data removed]",
      "text/plain": [
       "<Figure size 432x288 with 1 Axes>"
      ]
     },
     "metadata": {
      "needs_background": "light"
     },
     "output_type": "display_data"
    }
   ],
   "source": [
    "plt.boxplot(newfare); "
   ]
  },
  {
   "cell_type": "code",
   "execution_count": 13,
   "id": "a0e848f7-53bd-4e93-8dfb-c4394c8bf05f",
   "metadata": {},
   "outputs": [
    {
     "data": {
      "image/png": "[encoded data removed]",
      "text/plain": [
       "<Figure size 432x288 with 1 Axes>"
      ]
     },
     "metadata": {
      "needs_background": "light"
     },
     "output_type": "display_data"
    }
   ],
   "source": [
    "plt.hist(newfare, density=True ); # yoğunluklarına baktık."
   ]
  },
  {
   "cell_type": "code",
   "execution_count": 14,
   "id": "9c705b92-a11b-4586-bf85-8a73d3bed2c6",
   "metadata": {},
   "outputs": [
    {
     "data": {
      "image/png": "[encoded data removed]",
      "text/plain": [
       "<Figure size 432x288 with 1 Axes>"
      ]
     },
     "metadata": {
      "needs_background": "light"
     },
     "output_type": "display_data"
    }
   ],
   "source": [
    "sns.kdeplot(newfare); # dağılıma daha düz çizgiyle baktık."
   ]
  },
  {
   "cell_type": "code",
   "execution_count": 15,
   "id": "5c10517f-1a82-4453-a41b-e4472d4f046d",
   "metadata": {},
   "outputs": [
    {
     "data": {
      "text/plain": [
       "2.2471201602453075"
      ]
     },
     "execution_count": 15,
     "metadata": {},
     "output_type": "execute_result"
    }
   ],
   "source": [
    "stats.skew(newfare) # çarpıklığını hesaplıyoruz"
   ]
  },
  {
   "cell_type": "code",
   "execution_count": 16,
   "id": "0e61404c-b153-45fb-9cab-0e0a5b1eafe6",
   "metadata": {},
   "outputs": [
    {
     "data": {
      "text/plain": [
       "ModeResult(mode=array([8.05]), count=array([43]))"
      ]
     },
     "execution_count": 16,
     "metadata": {},
     "output_type": "execute_result"
    }
   ],
   "source": [
    "stats.mode(newfare)"
   ]
  },
  {
   "cell_type": "code",
   "execution_count": 17,
   "id": "190faefa-1018-4262-bce5-ff4ff1241365",
   "metadata": {},
   "outputs": [
    {
     "data": {
      "text/plain": [
       "860.5028943449321"
      ]
     },
     "execution_count": 17,
     "metadata": {},
     "output_type": "execute_result"
    }
   ],
   "source": [
    "np.var(newfare)"
   ]
  },
  {
   "cell_type": "code",
   "execution_count": 18,
   "id": "d0ce6ea2-ff39-4a90-8ffe-0df4960649bf",
   "metadata": {},
   "outputs": [
    {
     "data": {
      "text/plain": [
       "29.33432962153613"
      ]
     },
     "execution_count": 18,
     "metadata": {},
     "output_type": "execute_result"
    }
   ],
   "source": [
    "np.std(newfare)"
   ]
  },
  {
   "cell_type": "code",
   "execution_count": 19,
   "id": "d0135f2c-c65b-4f35-bdfa-74866bd12de5",
   "metadata": {},
   "outputs": [
    {
     "data": {
      "text/plain": [
       "True"
      ]
     },
     "execution_count": 19,
     "metadata": {},
     "output_type": "execute_result"
    }
   ],
   "source": [
    "np.percentile(newfare, 50) == np.median(newfare)"
   ]
  },
  {
   "cell_type": "code",
   "execution_count": 20,
   "id": "7d12f6dc-a137-42a1-8263-ecf04dd81699",
   "metadata": {},
   "outputs": [
    {
     "data": {
      "text/plain": [
       "13.8625"
      ]
     },
     "execution_count": 20,
     "metadata": {},
     "output_type": "execute_result"
    }
   ],
   "source": [
    "np.percentile(newfare, 50)"
   ]
  },
  {
   "cell_type": "code",
   "execution_count": 21,
   "id": "d38f9f46-2939-4d2e-9e89-cb0306e3ec21",
   "metadata": {},
   "outputs": [
    {
     "data": {
      "text/plain": [
       "7.8958"
      ]
     },
     "execution_count": 21,
     "metadata": {},
     "output_type": "execute_result"
    }
   ],
   "source": [
    "np.percentile(newfare, 25)"
   ]
  },
  {
   "cell_type": "code",
   "execution_count": 22,
   "id": "4b2f5bce-104d-4cbe-9397-d50120d823d1",
   "metadata": {},
   "outputs": [
    {
     "data": {
      "text/plain": [
       "30.0"
      ]
     },
     "execution_count": 22,
     "metadata": {},
     "output_type": "execute_result"
    }
   ],
   "source": [
    "np.percentile(newfare, 75)"
   ]
  },
  {
   "cell_type": "code",
   "execution_count": 23,
   "id": "daaa3b11-04de-4d42-a402-b835b9887800",
   "metadata": {},
   "outputs": [
    {
     "data": {
      "text/plain": [
       "22.1042"
      ]
     },
     "execution_count": 23,
     "metadata": {},
     "output_type": "execute_result"
    }
   ],
   "source": [
    "iqr = np.percentile(newfare, 75) - np.percentile(newfare, 25)\n",
    "iqr"
   ]
  },
  {
   "cell_type": "code",
   "execution_count": 24,
   "id": "ee854a28-3d13-4546-a973-a429577d4850",
   "metadata": {},
   "outputs": [
    {
     "data": {
      "text/plain": [
       "22.1042"
      ]
     },
     "execution_count": 24,
     "metadata": {},
     "output_type": "execute_result"
    }
   ],
   "source": [
    "stats.iqr(newfare)"
   ]
  },
  {
   "cell_type": "code",
   "execution_count": 25,
   "id": "cbe23614-1ce7-4441-ab3b-d22323f0ce68",
   "metadata": {},
   "outputs": [
    {
     "data": {
      "text/plain": [
       "DescribeResult(nobs=871, minmax=(0.0, 164.8667), mean=26.53017037887486, variance=861.4919781315355, skewness=2.2471201602453075, kurtosis=5.266968870155699)"
      ]
     },
     "execution_count": 25,
     "metadata": {},
     "output_type": "execute_result"
    }
   ],
   "source": [
    "stats.describe(newfare)"
   ]
  },
  {
   "cell_type": "markdown",
   "id": "d3224ebe-bfd6-492f-9df0-df929b8e3fea",
   "metadata": {},
   "source": [
    "# **Scatter Plot**"
   ]
  },
  {
   "cell_type": "code",
   "execution_count": 26,
   "id": "49d32477-6c2f-4c22-bfc0-017a6d644ae1",
   "metadata": {},
   "outputs": [],
   "source": [
    "tv_hours = [3,5,2,0,5,3,1,4,3,4] # öğrencilerin TV izleme süreleri\n",
    "GPA = [2.7,2.1,3.3,3.4,2.0,3.0,3.6,2.8,3.5,2.6] # not ortalaması"
   ]
  },
  {
   "cell_type": "code",
   "execution_count": 27,
   "id": "45c5f1c3-8371-4c10-bd0e-153c1d921314",
   "metadata": {},
   "outputs": [],
   "source": [
    "tv_hours = np.array(tv_hours)\n",
    "GPA = np.array(GPA)\n",
    "# Aritmetik işlemleri kolaylıkla yapmak için array içerisine attık."
   ]
  },
  {
   "cell_type": "code",
   "execution_count": 28,
   "id": "dba0aaf4-93ee-4883-a705-bf49e6dcdc6b",
   "metadata": {},
   "outputs": [
    {
     "data": {
      "image/png": "[encoded data removed]",
      "text/plain": [
       "<Figure size 432x288 with 1 Axes>"
      ]
     },
     "metadata": {
      "needs_background": "light"
     },
     "output_type": "display_data"
    }
   ],
   "source": [
    "plt.scatter(tv_hours, GPA);\n",
    "# İki veriyi karşılaştırmak için scatterplot kullandık ve noktalar linner bir doğru etrafında toplanmış demekki iki veri arasında güçlü ve negatif bir ilişki var. "
   ]
  },
  {
   "cell_type": "code",
   "execution_count": 29,
   "id": "7fd2fa0d-f945-450a-a1bd-6830686f0854",
   "metadata": {},
   "outputs": [
    {
     "name": "stderr",
     "output_type": "stream",
     "text": [
      "/opt/anaconda3/lib/python3.8/site-packages/seaborn/_decorators.py:36: FutureWarning: Pass the following variables as keyword args: x, y. From version 0.12, the only valid positional argument will be `data`, and passing other arguments without an explicit keyword will result in an error or misinterpretation.\n",
      "  warnings.warn(\n"
     ]
    },
    {
     "data": {
      "image/png": "[encoded data removed]",
      "text/plain": [
       "<Figure size 432x288 with 1 Axes>"
      ]
     },
     "metadata": {
      "needs_background": "light"
     },
     "output_type": "display_data"
    }
   ],
   "source": [
    "sns.regplot(tv_hours, GPA); # Lineer doğruyu daha net görmüş olduk."
   ]
  },
  {
   "cell_type": "code",
   "execution_count": 30,
   "id": "2acff72e-07dc-4de9-8f73-de7fb11069d1",
   "metadata": {},
   "outputs": [
    {
     "data": {
      "image/png": "[encoded data removed]",
      "text/plain": [
       "<Figure size 432x288 with 1 Axes>"
      ]
     },
     "metadata": {
      "needs_background": "light"
     },
     "output_type": "display_data"
    }
   ],
   "source": [
    "m , b = np.polyfit(tv_hours, GPA, 1) # Least squares polynomial fit.\n",
    "plt.plot(tv_hours, GPA, \"+\")\n",
    "plt.plot(tv_hours, m*tv_hours + b); # en uygun reg. çizgisini çizer.\n"
   ]
  },
  {
   "cell_type": "markdown",
   "id": "e91eef5d-6d25-4b9f-8e2f-73467142efd0",
   "metadata": {},
   "source": [
    "# Manuel (with Formula)"
   ]
  },
  {
   "cell_type": "code",
   "execution_count": 31,
   "id": "313276c1-defd-40cd-97fd-84581b039788",
   "metadata": {},
   "outputs": [],
   "source": [
    "tv_hours = [3,5,2,0,5,3,1,4,3,4]\n",
    "GPA = [2.7,2.1,3.3,3.4,2.0,3.0,3.6,2.8,3.5,2.6]"
   ]
  },
  {
   "cell_type": "code",
   "execution_count": 32,
   "id": "3813818a-9adf-4426-bc3d-cff8da3f6532",
   "metadata": {},
   "outputs": [],
   "source": [
    "# Convert the lists to Numpy arrays\n",
    "x = np.array(tv_hours)\n",
    "y = np.array(GPA)"
   ]
  },
  {
   "cell_type": "markdown",
   "id": "908f14c5-435e-469d-b6e4-dde7b7d06369",
   "metadata": {},
   "source": [
    "![correlation1.PNG](data:image/png;base64,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)"
   ]
  },
  {
   "cell_type": "code",
   "execution_count": 33,
   "id": "67379ff5-e310-4afa-87a6-e8cbfe497ccc",
   "metadata": {},
   "outputs": [],
   "source": [
    "# Pearson Korelasyon Formülünü kullanın. Önce payı hesaplayın, sonra paydayı hesaplayın, ardından r katsayısını hesaplayın."
   ]
  },
  {
   "cell_type": "code",
   "execution_count": 34,
   "id": "21d25814-684f-493f-ba7e-82df52f89c25",
   "metadata": {},
   "outputs": [
    {
     "data": {
      "text/plain": [
       "-71.00000000000011"
      ]
     },
     "execution_count": 34,
     "metadata": {},
     "output_type": "execute_result"
    }
   ],
   "source": [
    "numer = len(x)*sum(x*y) - sum(x)*sum(y)\n",
    "numer"
   ]
  },
  {
   "cell_type": "code",
   "execution_count": 35,
   "id": "d41593a3-9e58-491f-9acd-895bf172aa70",
   "metadata": {},
   "outputs": [
    {
     "data": {
      "text/plain": [
       "82.84926070883178"
      ]
     },
     "execution_count": 35,
     "metadata": {},
     "output_type": "execute_result"
    }
   ],
   "source": [
    "denom = np.sqrt((len(x)*sum(x**2)-sum(x)**2)*(len(y)*sum(y**2)-sum(y)**2))\n",
    "denom"
   ]
  },
  {
   "cell_type": "code",
   "execution_count": 36,
   "id": "0bed989c-adf9-428c-80aa-558a1aecbbe4",
   "metadata": {},
   "outputs": [
    {
     "data": {
      "text/plain": [
       "-0.8569780755138527"
      ]
     },
     "execution_count": 36,
     "metadata": {},
     "output_type": "execute_result"
    }
   ],
   "source": [
    "r = numer/denom\n",
    "r\n",
    "# negatif güçlü ilişki var."
   ]
  },
  {
   "cell_type": "markdown",
   "id": "d679885d-90ab-4f71-af28-5b34987436f5",
   "metadata": {},
   "source": [
    "# Scipy"
   ]
  },
  {
   "cell_type": "code",
   "execution_count": 37,
   "id": "77fe4472-84d8-421e-8ef4-bfc514c5627d",
   "metadata": {},
   "outputs": [
    {
     "data": {
      "text/plain": [
       "-0.8569780755138501"
      ]
     },
     "execution_count": 37,
     "metadata": {},
     "output_type": "execute_result"
    }
   ],
   "source": [
    "r, p = stats.pearsonr(tv_hours, GPA)  # pearson correlation katsayısını ve p-value verir.\n",
    "r"
   ]
  },
  {
   "cell_type": "code",
   "execution_count": 38,
   "id": "7f5f79ea-af02-4851-addc-fff68e2a8b50",
   "metadata": {},
   "outputs": [
    {
     "data": {
      "text/plain": [
       "(-0.8569780755138501, 0.001534743626999713)"
      ]
     },
     "execution_count": 38,
     "metadata": {},
     "output_type": "execute_result"
    }
   ],
   "source": [
    "stats.pearsonr(tv_hours, GPA) # pearsonr kullanabilmemmiz için iki değişkenin normal dağılım old. varsayarız."
   ]
  },
  {
   "cell_type": "markdown",
   "id": "a821c998-e44d-4f84-a547-35777b4cfab9",
   "metadata": {},
   "source": [
    "The Spearman rank-order correlation coefficient is a nonparametric measure of the monotonicity of the relationship between two datasets. Unlike the Pearson correlation, the Spearman correlation does not assume that both datasets are normally distributed."
   ]
  },
  {
   "cell_type": "code",
   "execution_count": 39,
   "id": "342463ce-35e8-46aa-8c6a-06cc408bfb7c",
   "metadata": {},
   "outputs": [
    {
     "data": {
      "text/plain": [
       "SpearmanrResult(correlation=-0.8643457510060755, pvalue=0.001253729937570454)"
      ]
     },
     "execution_count": 39,
     "metadata": {},
     "output_type": "execute_result"
    }
   ],
   "source": [
    "stats.spearmanr(GPA, tv_hours) # normal dağılım varsaymadıgımız durumlarda kullanabiliriz."
   ]
  },
  {
   "cell_type": "markdown",
   "id": "cfb26162-1838-432e-9722-1018e5fb6339",
   "metadata": {},
   "source": [
    "Calculate Kendall’s tau, a correlation measure for ordinal data.\n",
    "\n",
    "Kendall’s tau is a measure of the correspondence between two rankings."
   ]
  },
  {
   "cell_type": "code",
   "execution_count": 40,
   "id": "befa4793-91cf-46c0-8291-e2e385ceb634",
   "metadata": {},
   "outputs": [
    {
     "data": {
      "text/plain": [
       "KendalltauResult(correlation=-0.7542472332656507, pvalue=0.0033968772424454747)"
      ]
     },
     "execution_count": 40,
     "metadata": {},
     "output_type": "execute_result"
    }
   ],
   "source": [
    "stats.kendalltau(tv_hours, GPA) # ordinal veriler için kullanıslı."
   ]
  },
  {
   "cell_type": "markdown",
   "id": "58b6369c-eb14-4f39-9adb-e375ebb4a9e6",
   "metadata": {},
   "source": [
    "## Numpy"
   ]
  },
  {
   "cell_type": "code",
   "execution_count": 41,
   "id": "e2d27b4e-49be-4369-b379-de92ab97b65c",
   "metadata": {},
   "outputs": [
    {
     "data": {
      "text/plain": [
       "array([[ 0.31777778, -0.78888889],\n",
       "       [-0.78888889,  2.66666667]])"
      ]
     },
     "execution_count": 41,
     "metadata": {},
     "output_type": "execute_result"
    }
   ],
   "source": [
    "np.cov(GPA, tv_hours)\n",
    "# kovaryans da işaretten yönden bahseder. burda güç kavramı eksik. x y arasndakı cov -0.78888889"
   ]
  },
  {
   "cell_type": "markdown",
   "id": "b87bbf0f-a90e-4fdc-aeac-c929657501c1",
   "metadata": {},
   "source": [
    "Calculate the sample variances"
   ]
  },
  {
   "cell_type": "code",
   "execution_count": 42,
   "id": "3f69fa69-779f-4688-ac25-acf122fdd77b",
   "metadata": {},
   "outputs": [
    {
     "data": {
      "text/plain": [
       "0.3177777777777777"
      ]
     },
     "execution_count": 42,
     "metadata": {},
     "output_type": "execute_result"
    }
   ],
   "source": [
    "stats.tvar(GPA)"
   ]
  },
  {
   "cell_type": "code",
   "execution_count": 43,
   "id": "f0e95e38-003e-4530-8a42-2ca3ca34c173",
   "metadata": {},
   "outputs": [
    {
     "data": {
      "text/plain": [
       "2.6666666666666665"
      ]
     },
     "execution_count": 43,
     "metadata": {},
     "output_type": "execute_result"
    }
   ],
   "source": [
    "stats.tvar(tv_hours)"
   ]
  },
  {
   "cell_type": "markdown",
   "id": "5a5d033c-4a20-48ad-b0b7-26d337d50a97",
   "metadata": {},
   "source": [
    "Calculate the correlation coefficients with Numpy"
   ]
  },
  {
   "cell_type": "code",
   "execution_count": 44,
   "id": "53f7264e-2dc0-44e8-8181-0d24e5433aa7",
   "metadata": {},
   "outputs": [
    {
     "data": {
      "text/plain": [
       "array([[ 1.        , -0.85697808],\n",
       "       [-0.85697808,  1.        ]])"
      ]
     },
     "execution_count": 44,
     "metadata": {},
     "output_type": "execute_result"
    }
   ],
   "source": [
    "np.corrcoef(tv_hours, GPA) # satır sütun tv gpa düşün."
   ]
  },
  {
   "cell_type": "markdown",
   "id": "696810bd-137b-471e-bed6-b26c24ed4fb4",
   "metadata": {},
   "source": [
    "## Pandas"
   ]
  },
  {
   "cell_type": "code",
   "execution_count": 45,
   "id": "fcb41610-0b58-4e0d-bdea-988be635bd34",
   "metadata": {},
   "outputs": [],
   "source": [
    "df = sns.load_dataset(\"car_crashes\")"
   ]
  },
  {
   "cell_type": "code",
   "execution_count": 46,
   "id": "3cc3d504-a0c3-4840-874e-ca510ad24d4e",
   "metadata": {},
   "outputs": [
    {
     "data": {
      "text/html": [
       "<div>\n",
       "<style scoped>\n",
       "    .dataframe tbody tr th:only-of-type {\n",
       "        vertical-align: middle;\n",
       "    }\n",
       "\n",
       "    .dataframe tbody tr th {\n",
       "        vertical-align: top;\n",
       "    }\n",
       "\n",
       "    .dataframe thead th {\n",
       "        text-align: right;\n",
       "    }\n",
       "</style>\n",
       "<table border=\"1\" class=\"dataframe\">\n",
       "  <thead>\n",
       "    <tr style=\"text-align: right;\">\n",
       "      <th></th>\n",
       "      <th>total</th>\n",
       "      <th>speeding</th>\n",
       "      <th>alcohol</th>\n",
       "      <th>not_distracted</th>\n",
       "      <th>no_previous</th>\n",
       "      <th>ins_premium</th>\n",
       "      <th>ins_losses</th>\n",
       "      <th>abbrev</th>\n",
       "    </tr>\n",
       "  </thead>\n",
       "  <tbody>\n",
       "    <tr>\n",
       "      <th>0</th>\n",
       "      <td>18.8</td>\n",
       "      <td>7.332</td>\n",
       "      <td>5.640</td>\n",
       "      <td>18.048</td>\n",
       "      <td>15.040</td>\n",
       "      <td>784.55</td>\n",
       "      <td>145.08</td>\n",
       "      <td>AL</td>\n",
       "    </tr>\n",
       "    <tr>\n",
       "      <th>1</th>\n",
       "      <td>18.1</td>\n",
       "      <td>7.421</td>\n",
       "      <td>4.525</td>\n",
       "      <td>16.290</td>\n",
       "      <td>17.014</td>\n",
       "      <td>1053.48</td>\n",
       "      <td>133.93</td>\n",
       "      <td>AK</td>\n",
       "    </tr>\n",
       "    <tr>\n",
       "      <th>2</th>\n",
       "      <td>18.6</td>\n",
       "      <td>6.510</td>\n",
       "      <td>5.208</td>\n",
       "      <td>15.624</td>\n",
       "      <td>17.856</td>\n",
       "      <td>899.47</td>\n",
       "      <td>110.35</td>\n",
       "      <td>AZ</td>\n",
       "    </tr>\n",
       "    <tr>\n",
       "      <th>3</th>\n",
       "      <td>22.4</td>\n",
       "      <td>4.032</td>\n",
       "      <td>5.824</td>\n",
       "      <td>21.056</td>\n",
       "      <td>21.280</td>\n",
       "      <td>827.34</td>\n",
       "      <td>142.39</td>\n",
       "      <td>AR</td>\n",
       "    </tr>\n",
       "    <tr>\n",
       "      <th>4</th>\n",
       "      <td>12.0</td>\n",
       "      <td>4.200</td>\n",
       "      <td>3.360</td>\n",
       "      <td>10.920</td>\n",
       "      <td>10.680</td>\n",
       "      <td>878.41</td>\n",
       "      <td>165.63</td>\n",
       "      <td>CA</td>\n",
       "    </tr>\n",
       "  </tbody>\n",
       "</table>\n",
       "</div>"
      ],
      "text/plain": [
       "   total  speeding  alcohol  not_distracted  no_previous  ins_premium  \\\n",
       "0   18.8     7.332    5.640          18.048       15.040       784.55   \n",
       "1   18.1     7.421    4.525          16.290       17.014      1053.48   \n",
       "2   18.6     6.510    5.208          15.624       17.856       899.47   \n",
       "3   22.4     4.032    5.824          21.056       21.280       827.34   \n",
       "4   12.0     4.200    3.360          10.920       10.680       878.41   \n",
       "\n",
       "   ins_losses abbrev  \n",
       "0      145.08     AL  \n",
       "1      133.93     AK  \n",
       "2      110.35     AZ  \n",
       "3      142.39     AR  \n",
       "4      165.63     CA  "
      ]
     },
     "execution_count": 46,
     "metadata": {},
     "output_type": "execute_result"
    }
   ],
   "source": [
    "df.head()"
   ]
  },
  {
   "cell_type": "code",
   "execution_count": 47,
   "id": "e17f4695-2dc3-4577-be61-5c1f03c1272d",
   "metadata": {},
   "outputs": [
    {
     "name": "stdout",
     "output_type": "stream",
     "text": [
      "<class 'pandas.core.frame.DataFrame'>\n",
      "RangeIndex: 51 entries, 0 to 50\n",
      "Data columns (total 8 columns):\n",
      " #   Column          Non-Null Count  Dtype  \n",
      "---  ------          --------------  -----  \n",
      " 0   total           51 non-null     float64\n",
      " 1   speeding        51 non-null     float64\n",
      " 2   alcohol         51 non-null     float64\n",
      " 3   not_distracted  51 non-null     float64\n",
      " 4   no_previous     51 non-null     float64\n",
      " 5   ins_premium     51 non-null     float64\n",
      " 6   ins_losses      51 non-null     float64\n",
      " 7   abbrev          51 non-null     object \n",
      "dtypes: float64(7), object(1)\n",
      "memory usage: 3.3+ KB\n"
     ]
    }
   ],
   "source": [
    "df.info()"
   ]
  },
  {
   "cell_type": "code",
   "execution_count": 48,
   "id": "f6fb6a86-092f-40ab-a556-1a4595048d5c",
   "metadata": {},
   "outputs": [
    {
     "data": {
      "text/html": [
       "<div>\n",
       "<style scoped>\n",
       "    .dataframe tbody tr th:only-of-type {\n",
       "        vertical-align: middle;\n",
       "    }\n",
       "\n",
       "    .dataframe tbody tr th {\n",
       "        vertical-align: top;\n",
       "    }\n",
       "\n",
       "    .dataframe thead th {\n",
       "        text-align: right;\n",
       "    }\n",
       "</style>\n",
       "<table border=\"1\" class=\"dataframe\">\n",
       "  <thead>\n",
       "    <tr style=\"text-align: right;\">\n",
       "      <th></th>\n",
       "      <th>total</th>\n",
       "      <th>speeding</th>\n",
       "      <th>alcohol</th>\n",
       "      <th>not_distracted</th>\n",
       "      <th>no_previous</th>\n",
       "      <th>ins_premium</th>\n",
       "      <th>ins_losses</th>\n",
       "    </tr>\n",
       "  </thead>\n",
       "  <tbody>\n",
       "    <tr>\n",
       "      <th>count</th>\n",
       "      <td>51.000000</td>\n",
       "      <td>51.000000</td>\n",
       "      <td>51.000000</td>\n",
       "      <td>51.000000</td>\n",
       "      <td>51.000000</td>\n",
       "      <td>51.000000</td>\n",
       "      <td>51.000000</td>\n",
       "    </tr>\n",
       "    <tr>\n",
       "      <th>mean</th>\n",
       "      <td>15.790196</td>\n",
       "      <td>4.998196</td>\n",
       "      <td>4.886784</td>\n",
       "      <td>13.573176</td>\n",
       "      <td>14.004882</td>\n",
       "      <td>886.957647</td>\n",
       "      <td>134.493137</td>\n",
       "    </tr>\n",
       "    <tr>\n",
       "      <th>std</th>\n",
       "      <td>4.122002</td>\n",
       "      <td>2.017747</td>\n",
       "      <td>1.729133</td>\n",
       "      <td>4.508977</td>\n",
       "      <td>3.764672</td>\n",
       "      <td>178.296285</td>\n",
       "      <td>24.835922</td>\n",
       "    </tr>\n",
       "    <tr>\n",
       "      <th>min</th>\n",
       "      <td>5.900000</td>\n",
       "      <td>1.792000</td>\n",
       "      <td>1.593000</td>\n",
       "      <td>1.760000</td>\n",
       "      <td>5.900000</td>\n",
       "      <td>641.960000</td>\n",
       "      <td>82.750000</td>\n",
       "    </tr>\n",
       "    <tr>\n",
       "      <th>25%</th>\n",
       "      <td>12.750000</td>\n",
       "      <td>3.766500</td>\n",
       "      <td>3.894000</td>\n",
       "      <td>10.478000</td>\n",
       "      <td>11.348000</td>\n",
       "      <td>768.430000</td>\n",
       "      <td>114.645000</td>\n",
       "    </tr>\n",
       "    <tr>\n",
       "      <th>50%</th>\n",
       "      <td>15.600000</td>\n",
       "      <td>4.608000</td>\n",
       "      <td>4.554000</td>\n",
       "      <td>13.857000</td>\n",
       "      <td>13.775000</td>\n",
       "      <td>858.970000</td>\n",
       "      <td>136.050000</td>\n",
       "    </tr>\n",
       "    <tr>\n",
       "      <th>75%</th>\n",
       "      <td>18.500000</td>\n",
       "      <td>6.439000</td>\n",
       "      <td>5.604000</td>\n",
       "      <td>16.140000</td>\n",
       "      <td>16.755000</td>\n",
       "      <td>1007.945000</td>\n",
       "      <td>151.870000</td>\n",
       "    </tr>\n",
       "    <tr>\n",
       "      <th>max</th>\n",
       "      <td>23.900000</td>\n",
       "      <td>9.450000</td>\n",
       "      <td>10.038000</td>\n",
       "      <td>23.661000</td>\n",
       "      <td>21.280000</td>\n",
       "      <td>1301.520000</td>\n",
       "      <td>194.780000</td>\n",
       "    </tr>\n",
       "  </tbody>\n",
       "</table>\n",
       "</div>"
      ],
      "text/plain": [
       "           total   speeding    alcohol  not_distracted  no_previous  \\\n",
       "count  51.000000  51.000000  51.000000       51.000000    51.000000   \n",
       "mean   15.790196   4.998196   4.886784       13.573176    14.004882   \n",
       "std     4.122002   2.017747   1.729133        4.508977     3.764672   \n",
       "min     5.900000   1.792000   1.593000        1.760000     5.900000   \n",
       "25%    12.750000   3.766500   3.894000       10.478000    11.348000   \n",
       "50%    15.600000   4.608000   4.554000       13.857000    13.775000   \n",
       "75%    18.500000   6.439000   5.604000       16.140000    16.755000   \n",
       "max    23.900000   9.450000  10.038000       23.661000    21.280000   \n",
       "\n",
       "       ins_premium  ins_losses  \n",
       "count    51.000000   51.000000  \n",
       "mean    886.957647  134.493137  \n",
       "std     178.296285   24.835922  \n",
       "min     641.960000   82.750000  \n",
       "25%     768.430000  114.645000  \n",
       "50%     858.970000  136.050000  \n",
       "75%    1007.945000  151.870000  \n",
       "max    1301.520000  194.780000  "
      ]
     },
     "execution_count": 48,
     "metadata": {},
     "output_type": "execute_result"
    }
   ],
   "source": [
    "df.describe()"
   ]
  },
  {
   "cell_type": "markdown",
   "id": "967d19ec-aa0b-4cdc-a241-3a11e3aecfe6",
   "metadata": {},
   "source": [
    "Create the correlation matrix with Pandas"
   ]
  },
  {
   "cell_type": "code",
   "execution_count": 49,
   "id": "ed32a462-0d9b-4493-9198-1b6e58cfb6cc",
   "metadata": {},
   "outputs": [
    {
     "data": {
      "text/html": [
       "<div>\n",
       "<style scoped>\n",
       "    .dataframe tbody tr th:only-of-type {\n",
       "        vertical-align: middle;\n",
       "    }\n",
       "\n",
       "    .dataframe tbody tr th {\n",
       "        vertical-align: top;\n",
       "    }\n",
       "\n",
       "    .dataframe thead th {\n",
       "        text-align: right;\n",
       "    }\n",
       "</style>\n",
       "<table border=\"1\" class=\"dataframe\">\n",
       "  <thead>\n",
       "    <tr style=\"text-align: right;\">\n",
       "      <th></th>\n",
       "      <th>total</th>\n",
       "      <th>speeding</th>\n",
       "      <th>alcohol</th>\n",
       "      <th>not_distracted</th>\n",
       "      <th>no_previous</th>\n",
       "      <th>ins_premium</th>\n",
       "      <th>ins_losses</th>\n",
       "    </tr>\n",
       "  </thead>\n",
       "  <tbody>\n",
       "    <tr>\n",
       "      <th>total</th>\n",
       "      <td>1.000000</td>\n",
       "      <td>0.611548</td>\n",
       "      <td>0.852613</td>\n",
       "      <td>0.827560</td>\n",
       "      <td>0.956179</td>\n",
       "      <td>-0.199702</td>\n",
       "      <td>-0.036011</td>\n",
       "    </tr>\n",
       "    <tr>\n",
       "      <th>speeding</th>\n",
       "      <td>0.611548</td>\n",
       "      <td>1.000000</td>\n",
       "      <td>0.669719</td>\n",
       "      <td>0.588010</td>\n",
       "      <td>0.571976</td>\n",
       "      <td>-0.077675</td>\n",
       "      <td>-0.065928</td>\n",
       "    </tr>\n",
       "    <tr>\n",
       "      <th>alcohol</th>\n",
       "      <td>0.852613</td>\n",
       "      <td>0.669719</td>\n",
       "      <td>1.000000</td>\n",
       "      <td>0.732816</td>\n",
       "      <td>0.783520</td>\n",
       "      <td>-0.170612</td>\n",
       "      <td>-0.112547</td>\n",
       "    </tr>\n",
       "    <tr>\n",
       "      <th>not_distracted</th>\n",
       "      <td>0.827560</td>\n",
       "      <td>0.588010</td>\n",
       "      <td>0.732816</td>\n",
       "      <td>1.000000</td>\n",
       "      <td>0.747307</td>\n",
       "      <td>-0.174856</td>\n",
       "      <td>-0.075970</td>\n",
       "    </tr>\n",
       "    <tr>\n",
       "      <th>no_previous</th>\n",
       "      <td>0.956179</td>\n",
       "      <td>0.571976</td>\n",
       "      <td>0.783520</td>\n",
       "      <td>0.747307</td>\n",
       "      <td>1.000000</td>\n",
       "      <td>-0.156895</td>\n",
       "      <td>-0.006359</td>\n",
       "    </tr>\n",
       "    <tr>\n",
       "      <th>ins_premium</th>\n",
       "      <td>-0.199702</td>\n",
       "      <td>-0.077675</td>\n",
       "      <td>-0.170612</td>\n",
       "      <td>-0.174856</td>\n",
       "      <td>-0.156895</td>\n",
       "      <td>1.000000</td>\n",
       "      <td>0.623116</td>\n",
       "    </tr>\n",
       "    <tr>\n",
       "      <th>ins_losses</th>\n",
       "      <td>-0.036011</td>\n",
       "      <td>-0.065928</td>\n",
       "      <td>-0.112547</td>\n",
       "      <td>-0.075970</td>\n",
       "      <td>-0.006359</td>\n",
       "      <td>0.623116</td>\n",
       "      <td>1.000000</td>\n",
       "    </tr>\n",
       "  </tbody>\n",
       "</table>\n",
       "</div>"
      ],
      "text/plain": [
       "                   total  speeding   alcohol  not_distracted  no_previous  \\\n",
       "total           1.000000  0.611548  0.852613        0.827560     0.956179   \n",
       "speeding        0.611548  1.000000  0.669719        0.588010     0.571976   \n",
       "alcohol         0.852613  0.669719  1.000000        0.732816     0.783520   \n",
       "not_distracted  0.827560  0.588010  0.732816        1.000000     0.747307   \n",
       "no_previous     0.956179  0.571976  0.783520        0.747307     1.000000   \n",
       "ins_premium    -0.199702 -0.077675 -0.170612       -0.174856    -0.156895   \n",
       "ins_losses     -0.036011 -0.065928 -0.112547       -0.075970    -0.006359   \n",
       "\n",
       "                ins_premium  ins_losses  \n",
       "total             -0.199702   -0.036011  \n",
       "speeding          -0.077675   -0.065928  \n",
       "alcohol           -0.170612   -0.112547  \n",
       "not_distracted    -0.174856   -0.075970  \n",
       "no_previous       -0.156895   -0.006359  \n",
       "ins_premium        1.000000    0.623116  \n",
       "ins_losses         0.623116    1.000000  "
      ]
     },
     "execution_count": 49,
     "metadata": {},
     "output_type": "execute_result"
    }
   ],
   "source": [
    "df.corr()\n",
    "# Burada python default olarak pearson yöntemini kullanıyor."
   ]
  },
  {
   "cell_type": "code",
   "execution_count": 50,
   "id": "9d154ac6-9c97-4cfc-82c7-6ba9004d8a05",
   "metadata": {},
   "outputs": [
    {
     "data": {
      "text/plain": [
       "0.9561791745723077"
      ]
     },
     "execution_count": 50,
     "metadata": {},
     "output_type": "execute_result"
    }
   ],
   "source": [
    "df.corr().loc[\"total\",\"no_previous\"]"
   ]
  },
  {
   "cell_type": "code",
   "execution_count": 51,
   "id": "d141563e-4546-439d-98d0-41ea8657c301",
   "metadata": {},
   "outputs": [
    {
     "data": {
      "text/plain": [
       "0.6115476008001183"
      ]
     },
     "execution_count": 51,
     "metadata": {},
     "output_type": "execute_result"
    }
   ],
   "source": [
    "df.total.corr(df.speeding)"
   ]
  },
  {
   "cell_type": "markdown",
   "id": "45823974-1d8a-4c0f-adfb-d641e8bff835",
   "metadata": {},
   "source": [
    "Spearman correlation matrix with Pandas"
   ]
  },
  {
   "cell_type": "code",
   "execution_count": 52,
   "id": "d24a8e3f-ad5c-4610-b2d2-8808c7f9457b",
   "metadata": {},
   "outputs": [
    {
     "data": {
      "text/html": [
       "<div>\n",
       "<style scoped>\n",
       "    .dataframe tbody tr th:only-of-type {\n",
       "        vertical-align: middle;\n",
       "    }\n",
       "\n",
       "    .dataframe tbody tr th {\n",
       "        vertical-align: top;\n",
       "    }\n",
       "\n",
       "    .dataframe thead th {\n",
       "        text-align: right;\n",
       "    }\n",
       "</style>\n",
       "<table border=\"1\" class=\"dataframe\">\n",
       "  <thead>\n",
       "    <tr style=\"text-align: right;\">\n",
       "      <th></th>\n",
       "      <th>total</th>\n",
       "      <th>speeding</th>\n",
       "      <th>alcohol</th>\n",
       "      <th>not_distracted</th>\n",
       "      <th>no_previous</th>\n",
       "      <th>ins_premium</th>\n",
       "      <th>ins_losses</th>\n",
       "    </tr>\n",
       "  </thead>\n",
       "  <tbody>\n",
       "    <tr>\n",
       "      <th>total</th>\n",
       "      <td>1.000000</td>\n",
       "      <td>0.559365</td>\n",
       "      <td>0.894576</td>\n",
       "      <td>0.877605</td>\n",
       "      <td>0.958206</td>\n",
       "      <td>-0.118070</td>\n",
       "      <td>-0.000045</td>\n",
       "    </tr>\n",
       "    <tr>\n",
       "      <th>speeding</th>\n",
       "      <td>0.559365</td>\n",
       "      <td>1.000000</td>\n",
       "      <td>0.642654</td>\n",
       "      <td>0.562876</td>\n",
       "      <td>0.541699</td>\n",
       "      <td>-0.052128</td>\n",
       "      <td>-0.065341</td>\n",
       "    </tr>\n",
       "    <tr>\n",
       "      <th>alcohol</th>\n",
       "      <td>0.894576</td>\n",
       "      <td>0.642654</td>\n",
       "      <td>1.000000</td>\n",
       "      <td>0.796959</td>\n",
       "      <td>0.856012</td>\n",
       "      <td>-0.122899</td>\n",
       "      <td>0.020679</td>\n",
       "    </tr>\n",
       "    <tr>\n",
       "      <th>not_distracted</th>\n",
       "      <td>0.877605</td>\n",
       "      <td>0.562876</td>\n",
       "      <td>0.796959</td>\n",
       "      <td>1.000000</td>\n",
       "      <td>0.798136</td>\n",
       "      <td>-0.112853</td>\n",
       "      <td>0.015340</td>\n",
       "    </tr>\n",
       "    <tr>\n",
       "      <th>no_previous</th>\n",
       "      <td>0.958206</td>\n",
       "      <td>0.541699</td>\n",
       "      <td>0.856012</td>\n",
       "      <td>0.798136</td>\n",
       "      <td>1.000000</td>\n",
       "      <td>-0.036969</td>\n",
       "      <td>0.003937</td>\n",
       "    </tr>\n",
       "    <tr>\n",
       "      <th>ins_premium</th>\n",
       "      <td>-0.118070</td>\n",
       "      <td>-0.052128</td>\n",
       "      <td>-0.122899</td>\n",
       "      <td>-0.112853</td>\n",
       "      <td>-0.036969</td>\n",
       "      <td>1.000000</td>\n",
       "      <td>0.646697</td>\n",
       "    </tr>\n",
       "    <tr>\n",
       "      <th>ins_losses</th>\n",
       "      <td>-0.000045</td>\n",
       "      <td>-0.065341</td>\n",
       "      <td>0.020679</td>\n",
       "      <td>0.015340</td>\n",
       "      <td>0.003937</td>\n",
       "      <td>0.646697</td>\n",
       "      <td>1.000000</td>\n",
       "    </tr>\n",
       "  </tbody>\n",
       "</table>\n",
       "</div>"
      ],
      "text/plain": [
       "                   total  speeding   alcohol  not_distracted  no_previous  \\\n",
       "total           1.000000  0.559365  0.894576        0.877605     0.958206   \n",
       "speeding        0.559365  1.000000  0.642654        0.562876     0.541699   \n",
       "alcohol         0.894576  0.642654  1.000000        0.796959     0.856012   \n",
       "not_distracted  0.877605  0.562876  0.796959        1.000000     0.798136   \n",
       "no_previous     0.958206  0.541699  0.856012        0.798136     1.000000   \n",
       "ins_premium    -0.118070 -0.052128 -0.122899       -0.112853    -0.036969   \n",
       "ins_losses     -0.000045 -0.065341  0.020679        0.015340     0.003937   \n",
       "\n",
       "                ins_premium  ins_losses  \n",
       "total             -0.118070   -0.000045  \n",
       "speeding          -0.052128   -0.065341  \n",
       "alcohol           -0.122899    0.020679  \n",
       "not_distracted    -0.112853    0.015340  \n",
       "no_previous       -0.036969    0.003937  \n",
       "ins_premium        1.000000    0.646697  \n",
       "ins_losses         0.646697    1.000000  "
      ]
     },
     "execution_count": 52,
     "metadata": {},
     "output_type": "execute_result"
    }
   ],
   "source": [
    "df.corr(\"spearman\")"
   ]
  },
  {
   "cell_type": "code",
   "execution_count": 53,
   "id": "7876aac2-4115-43a6-8b45-92dd1569d824",
   "metadata": {},
   "outputs": [
    {
     "data": {
      "image/png": "[encoded data removed]",
      "text/plain": [
       "<Figure size 432x288 with 2 Axes>"
      ]
     },
     "metadata": {
      "needs_background": "light"
     },
     "output_type": "display_data"
    }
   ],
   "source": [
    "sns.heatmap(df.corr(),annot=True );\n",
    "# Heatmap ile koelasyon matrisini görsel olarak görüyoruz ve burada acık renkler kuvvetli koreledir."
   ]
  },
  {
   "cell_type": "code",
   "execution_count": 54,
   "id": "0427b29c-7e6f-477e-95ed-84b6b12a3571",
   "metadata": {},
   "outputs": [
    {
     "data": {
      "image/png": "[encoded data removed]",
      "text/plain": [
       "<Figure size 1260x1260 with 56 Axes>"
      ]
     },
     "metadata": {
      "needs_background": "light"
     },
     "output_type": "display_data"
    }
   ],
   "source": [
    "sns.pairplot(df);\n",
    "# Pairplot ile verilerin birbiri ile korelasyonunu scatter plot olarak görüyoruz."
   ]
  },
  {
   "cell_type": "markdown",
   "id": "4fd11c92-59cf-4b08-9a52-579d78d3f9cf",
   "metadata": {},
   "source": [
    "# **:)##############################(:**\n"
   ]
  },
  {
   "cell_type": "markdown",
   "id": "01a389db-b258-4fa5-9c2a-b0ced13e2380",
   "metadata": {},
   "source": [
    "# **Law of Large Numbers**\n"
   ]
  },
  {
   "cell_type": "markdown",
   "id": "597941f2-4068-497c-93a5-87ba0ceaad8d",
   "metadata": {},
   "source": [
    "We can simulate a large number of values for X."
   ]
  },
  {
   "cell_type": "code",
   "execution_count": 55,
   "id": "4ef8e6cf-8790-4537-b098-6b35688e176a",
   "metadata": {},
   "outputs": [],
   "source": [
    "n = 1000000"
   ]
  },
  {
   "cell_type": "code",
   "execution_count": 56,
   "id": "083c42c7-28db-4c10-8ac9-73dbdc2838eb",
   "metadata": {},
   "outputs": [
    {
     "data": {
      "text/plain": [
       "array([2, 6, 1, ..., 6, 3, 4])"
      ]
     },
     "execution_count": 56,
     "metadata": {},
     "output_type": "execute_result"
    }
   ],
   "source": [
    "np.random.seed(51)\n",
    "die_1 = np.random.randint(1, 7, size=n)\n",
    "die_1"
   ]
  },
  {
   "cell_type": "code",
   "execution_count": 57,
   "id": "397e35cb-de43-4564-840f-ffea2a0f0a42",
   "metadata": {},
   "outputs": [
    {
     "data": {
      "text/plain": [
       "array([4, 2, 1, ..., 2, 3, 5])"
      ]
     },
     "execution_count": 57,
     "metadata": {},
     "output_type": "execute_result"
    }
   ],
   "source": [
    "np.random.seed(81) # aynı değerler olmaması için seed değişti\n",
    "die_2 = np.random.randint(1, 7, size=n)\n",
    "die_2"
   ]
  },
  {
   "cell_type": "code",
   "execution_count": 58,
   "id": "e912dde6-d989-48f3-8e87-a3a392e0639b",
   "metadata": {},
   "outputs": [],
   "source": [
    "X = die_1 + die_2"
   ]
  },
  {
   "cell_type": "code",
   "execution_count": 59,
   "id": "58e67e26-a42d-4cd8-ac70-e3a2badf6e7c",
   "metadata": {},
   "outputs": [
    {
     "data": {
      "text/html": [
       "<div>\n",
       "<style scoped>\n",
       "    .dataframe tbody tr th:only-of-type {\n",
       "        vertical-align: middle;\n",
       "    }\n",
       "\n",
       "    .dataframe tbody tr th {\n",
       "        vertical-align: top;\n",
       "    }\n",
       "\n",
       "    .dataframe thead th {\n",
       "        text-align: right;\n",
       "    }\n",
       "</style>\n",
       "<table border=\"1\" class=\"dataframe\">\n",
       "  <thead>\n",
       "    <tr style=\"text-align: right;\">\n",
       "      <th></th>\n",
       "      <th>die_1</th>\n",
       "      <th>die_2</th>\n",
       "      <th>X</th>\n",
       "    </tr>\n",
       "  </thead>\n",
       "  <tbody>\n",
       "    <tr>\n",
       "      <th>0</th>\n",
       "      <td>2</td>\n",
       "      <td>4</td>\n",
       "      <td>6</td>\n",
       "    </tr>\n",
       "    <tr>\n",
       "      <th>1</th>\n",
       "      <td>6</td>\n",
       "      <td>2</td>\n",
       "      <td>8</td>\n",
       "    </tr>\n",
       "    <tr>\n",
       "      <th>2</th>\n",
       "      <td>1</td>\n",
       "      <td>1</td>\n",
       "      <td>2</td>\n",
       "    </tr>\n",
       "    <tr>\n",
       "      <th>3</th>\n",
       "      <td>2</td>\n",
       "      <td>4</td>\n",
       "      <td>6</td>\n",
       "    </tr>\n",
       "    <tr>\n",
       "      <th>4</th>\n",
       "      <td>6</td>\n",
       "      <td>4</td>\n",
       "      <td>10</td>\n",
       "    </tr>\n",
       "    <tr>\n",
       "      <th>5</th>\n",
       "      <td>1</td>\n",
       "      <td>4</td>\n",
       "      <td>5</td>\n",
       "    </tr>\n",
       "    <tr>\n",
       "      <th>6</th>\n",
       "      <td>6</td>\n",
       "      <td>2</td>\n",
       "      <td>8</td>\n",
       "    </tr>\n",
       "    <tr>\n",
       "      <th>7</th>\n",
       "      <td>5</td>\n",
       "      <td>2</td>\n",
       "      <td>7</td>\n",
       "    </tr>\n",
       "    <tr>\n",
       "      <th>8</th>\n",
       "      <td>2</td>\n",
       "      <td>6</td>\n",
       "      <td>8</td>\n",
       "    </tr>\n",
       "    <tr>\n",
       "      <th>9</th>\n",
       "      <td>6</td>\n",
       "      <td>3</td>\n",
       "      <td>9</td>\n",
       "    </tr>\n",
       "  </tbody>\n",
       "</table>\n",
       "</div>"
      ],
      "text/plain": [
       "   die_1  die_2   X\n",
       "0      2      4   6\n",
       "1      6      2   8\n",
       "2      1      1   2\n",
       "3      2      4   6\n",
       "4      6      4  10\n",
       "5      1      4   5\n",
       "6      6      2   8\n",
       "7      5      2   7\n",
       "8      2      6   8\n",
       "9      6      3   9"
      ]
     },
     "execution_count": 59,
     "metadata": {},
     "output_type": "execute_result"
    }
   ],
   "source": [
    "df = pd.DataFrame({\"die_1\":die_1, \"die_2\":die_2, \"X\":X})\n",
    "df.head(10)"
   ]
  },
  {
   "cell_type": "code",
   "execution_count": 60,
   "id": "002e82e1-5ecd-479f-a6f4-72fa51d6c294",
   "metadata": {},
   "outputs": [
    {
     "data": {
      "text/plain": [
       "83599"
      ]
     },
     "execution_count": 60,
     "metadata": {},
     "output_type": "execute_result"
    }
   ],
   "source": [
    "total_four = df[df.X == 4]\n",
    "len(total_four)"
   ]
  },
  {
   "cell_type": "code",
   "execution_count": 61,
   "id": "12798e4c-43f4-4ba5-9678-23cf632d72ff",
   "metadata": {},
   "outputs": [
    {
     "data": {
      "text/plain": [
       "0.083599"
      ]
     },
     "execution_count": 61,
     "metadata": {},
     "output_type": "execute_result"
    }
   ],
   "source": [
    "p = len(total_four) / n # göreceli frekans\n",
    "p"
   ]
  },
  {
   "cell_type": "code",
   "execution_count": 62,
   "id": "12aea642-ccae-4b32-a6ef-89336470b03d",
   "metadata": {},
   "outputs": [
    {
     "data": {
      "text/plain": [
       "0.08333333333333333"
      ]
     },
     "execution_count": 62,
     "metadata": {},
     "output_type": "execute_result"
    }
   ],
   "source": [
    "1/12 # teoarik frekans. n ne kadar artarsa p teorik frekansa yakınsar."
   ]
  },
  {
   "cell_type": "code",
   "execution_count": 63,
   "id": "0c2cab30-2b46-4e33-b699-1b6bc11e098e",
   "metadata": {},
   "outputs": [
    {
     "data": {
      "text/plain": [
       "7     166815\n",
       "6     138767\n",
       "8     138540\n",
       "5     110974\n",
       "9     110934\n",
       "4      83599\n",
       "10     83337\n",
       "11     55840\n",
       "3      55805\n",
       "12     27760\n",
       "2      27629\n",
       "Name: X, dtype: int64"
      ]
     },
     "execution_count": 63,
     "metadata": {},
     "output_type": "execute_result"
    }
   ],
   "source": [
    "freq = df.X.value_counts()\n",
    "freq"
   ]
  },
  {
   "cell_type": "code",
   "execution_count": 64,
   "id": "c2b9ffad-25d8-4dba-800a-5b530ccbeb2d",
   "metadata": {},
   "outputs": [
    {
     "data": {
      "image/png": "[encoded data removed]",
      "text/plain": [
       "<Figure size 432x288 with 1 Axes>"
      ]
     },
     "metadata": {
      "needs_background": "light"
     },
     "output_type": "display_data"
    }
   ],
   "source": [
    "%matplotlib inline\n",
    "freq.sort_index().plot(kind=\"bar\", grid=True);\n",
    "# İki zarın toplamının 7 gelme durumu en sık tekrarlanmış."
   ]
  },
  {
   "cell_type": "code",
   "execution_count": 65,
   "id": "c419e232-c4bd-44cf-af91-1fbf262ff691",
   "metadata": {},
   "outputs": [
    {
     "data": {
      "text/plain": [
       "7     0.166815\n",
       "6     0.138767\n",
       "8     0.138540\n",
       "5     0.110974\n",
       "9     0.110934\n",
       "4     0.083599\n",
       "10    0.083337\n",
       "11    0.055840\n",
       "3     0.055805\n",
       "12    0.027760\n",
       "2     0.027629\n",
       "Name: X, dtype: float64"
      ]
     },
     "execution_count": 65,
     "metadata": {},
     "output_type": "execute_result"
    }
   ],
   "source": [
    "prop = df.X.value_counts() / n\n",
    "prop"
   ]
  },
  {
   "cell_type": "code",
   "execution_count": 66,
   "id": "2a95b32a-6107-4f52-a75b-0562bac82d6e",
   "metadata": {},
   "outputs": [
    {
     "data": {
      "image/png": "[encoded data removed]",
      "text/plain": [
       "<Figure size 432x288 with 1 Axes>"
      ]
     },
     "metadata": {
      "needs_background": "light"
     },
     "output_type": "display_data"
    }
   ],
   "source": [
    "%matplotlib inline\n",
    "prop.sort_index().plot(kind=\"bar\", grid=True);\n",
    "# Olasılıksal dağılımlarını görüyoruz. İki zarın toplamanın 7 gelmesinin olasılığı en yüksek."
   ]
  },
  {
   "cell_type": "markdown",
   "id": "ada5a078-1c93-45f9-bf8a-87b0003d71e3",
   "metadata": {},
   "source": [
    "# **Binomial Distribution**\n",
    "*Source: Wackerly, D., Mendenhall, W., & Scheaffer, R. L. (2014). Mathematical statistics with applications. Cengage Learning.*"
   ]
  },
  {
   "cell_type": "markdown",
   "id": "9538bfd3-0061-4ba2-97f1-14c3e2409776",
   "metadata": {},
   "source": [
    "**Exercise 3.40**\n",
    "\n",
    "The probability that a patient recovers from a stomach disease is 0.8. \n",
    "\n",
    "Suppose 20 people are known to have contracted this disease. \n",
    "\n",
    "What is the probability that"
   ]
  },
  {
   "cell_type": "markdown",
   "id": "6770ec09-02f4-4190-b933-13142882070e",
   "metadata": {},
   "source": [
    "a. exactly 14 recover?"
   ]
  },
  {
   "cell_type": "code",
   "execution_count": 67,
   "id": "bf1c4db0-13a9-462c-b5d2-72a410aa647f",
   "metadata": {},
   "outputs": [],
   "source": [
    "# 2 tane discrete-ayrık sonucu olan bir trial(deneme) P(X=14)"
   ]
  },
  {
   "cell_type": "code",
   "execution_count": 68,
   "id": "8a455118-f53e-4d34-95e7-b27c5f430d29",
   "metadata": {},
   "outputs": [],
   "source": [
    "n = 20\n",
    "p = 0.8\n",
    "x = 14"
   ]
  },
  {
   "cell_type": "code",
   "execution_count": 69,
   "id": "4e13ddab-f00d-4a5c-bf6e-90f65b9bafda",
   "metadata": {},
   "outputs": [
    {
     "data": {
      "text/plain": [
       "0.10909970097305016"
      ]
     },
     "execution_count": 69,
     "metadata": {},
     "output_type": "execute_result"
    }
   ],
   "source": [
    "stats.binom.pmf(x,n,p)\n",
    "# 14 hastanın iyileşme olasılığı %10.9 dur."
   ]
  },
  {
   "cell_type": "code",
   "execution_count": 70,
   "id": "000ad269-0dda-4b3a-82de-64982275cdbf",
   "metadata": {},
   "outputs": [
    {
     "data": {
      "text/plain": [
       "16.0"
      ]
     },
     "execution_count": 70,
     "metadata": {},
     "output_type": "execute_result"
    }
   ],
   "source": [
    "stats.binom.mean(n,p)\n",
    "# beklenen değer, iyileşen hasta sayısı."
   ]
  },
  {
   "cell_type": "markdown",
   "id": "c8cb4412-275b-4b83-bcc0-8d95f9e08c3b",
   "metadata": {},
   "source": [
    "b. at least 10 recover?"
   ]
  },
  {
   "cell_type": "markdown",
   "id": "4a99c259-2f1b-453f-9128-2d87a8fcb348",
   "metadata": {},
   "source": [
    "this is P(X≥10)=P(10)+P(11)+P(12)+...+P(20)"
   ]
  },
  {
   "cell_type": "code",
   "execution_count": 71,
   "id": "287168dd-bdf2-4962-8194-19f22efa699f",
   "metadata": {},
   "outputs": [],
   "source": [
    "x = 10"
   ]
  },
  {
   "cell_type": "code",
   "execution_count": 72,
   "id": "fdb088f8-84ea-4411-aad2-ddad4b5a77b7",
   "metadata": {},
   "outputs": [
    {
     "data": {
      "text/plain": [
       "0.9994365863023398"
      ]
     },
     "execution_count": 72,
     "metadata": {},
     "output_type": "execute_result"
    }
   ],
   "source": [
    "1 - stats.binom.cdf(x-1,n,p)"
   ]
  },
  {
   "cell_type": "markdown",
   "id": "3dbbc846-9fb1-4947-962e-adeeffc520a2",
   "metadata": {},
   "source": [
    "c. at least 14 but not more than 18 recover?"
   ]
  },
  {
   "cell_type": "markdown",
   "id": "35880354-6d3e-459c-82e1-d3f21d772f55",
   "metadata": {},
   "source": [
    "this is P(14≤X≤18)=P(14)+P(15)+...+P(18)"
   ]
  },
  {
   "cell_type": "code",
   "execution_count": 73,
   "id": "9683c3f3-82bb-4c13-8f1f-2af35959491c",
   "metadata": {},
   "outputs": [],
   "source": [
    "x1 = 14\n",
    "x2 = 18"
   ]
  },
  {
   "cell_type": "code",
   "execution_count": 74,
   "id": "0f4f8aba-f581-4013-b35a-8014f178d853",
   "metadata": {},
   "outputs": [
    {
     "data": {
      "text/plain": [
       "0.844132196156189"
      ]
     },
     "execution_count": 74,
     "metadata": {},
     "output_type": "execute_result"
    }
   ],
   "source": [
    "stats.binom.cdf(x2,n,p) - stats.binom.cdf(x1-1,n,p)"
   ]
  },
  {
   "cell_type": "code",
   "execution_count": 75,
   "id": "78f66e72-62b4-464b-b007-5caac858b3fb",
   "metadata": {},
   "outputs": [
    {
     "data": {
      "text/plain": [
       "0.8441321961561888"
      ]
     },
     "execution_count": 75,
     "metadata": {},
     "output_type": "execute_result"
    }
   ],
   "source": [
    "stats.binom.pmf(14,n,p) + stats.binom.pmf(15,n,p) + stats.binom.pmf(16,n,p) + stats.binom.pmf(17,n,p) + stats.binom.pmf(18,n,p) "
   ]
  },
  {
   "cell_type": "markdown",
   "id": "72ea51be-0b46-4666-b3f1-f7d5d56734d2",
   "metadata": {},
   "source": [
    "d. at most 16 recover?"
   ]
  },
  {
   "cell_type": "markdown",
   "id": "b94889c1-f777-45d6-8181-3defbf700c39",
   "metadata": {},
   "source": [
    "this is P(X≤16)=1−P(X>16)=P(17)+P(18)+P(19)+P(20)"
   ]
  },
  {
   "cell_type": "code",
   "execution_count": 76,
   "id": "73445e90-0caa-45c0-b088-c10f0e743f9f",
   "metadata": {},
   "outputs": [],
   "source": [
    "x = 16"
   ]
  },
  {
   "cell_type": "code",
   "execution_count": 77,
   "id": "e8343c0d-1104-4b9d-961d-5910618583dd",
   "metadata": {},
   "outputs": [
    {
     "data": {
      "text/plain": [
       "0.5885511380434314"
      ]
     },
     "execution_count": 77,
     "metadata": {},
     "output_type": "execute_result"
    }
   ],
   "source": [
    "stats.binom.cdf(x,n,p)"
   ]
  },
  {
   "cell_type": "markdown",
   "id": "1c3b995c-3b72-493f-abbc-de295af8774d",
   "metadata": {},
   "source": [
    "e. Construct discrete probability distribution table and draw a graph"
   ]
  },
  {
   "cell_type": "code",
   "execution_count": 78,
   "id": "fd968b77-1505-477f-a7ba-e9210d914481",
   "metadata": {},
   "outputs": [
    {
     "name": "stdout",
     "output_type": "stream",
     "text": [
      "0\t1.0485759999999954e-14\n",
      "1\t8.388607999999964e-13\n",
      "2\t3.187671039999986e-11\n",
      "3\t7.650410495999971e-10\n",
      "4\t1.3005697843199968e-08\n",
      "5\t1.664729323929596e-07\n",
      "6\t1.664729323929598e-06\n",
      "7\t1.3317834591436782e-05\n",
      "8\t8.656592484433914e-05\n",
      "9\t0.0004616849325031411\n",
      "10\t0.0020314137030138213\n",
      "11\t0.007386958920050267\n",
      "12\t0.02216087676015084\n",
      "13\t0.05454985048652511\n",
      "14\t0.10909970097305016\n",
      "15\t0.17455952155688043\n",
      "16\t0.2181994019461004\n",
      "17\t0.20536414300809458\n",
      "18\t0.13690942867206324\n",
      "19\t0.05764607523034235\n",
      "20\t0.011529215046068483\n"
     ]
    }
   ],
   "source": [
    "dist = []\n",
    "\n",
    "for i in range(n+1):\n",
    "    dist.append(stats.binom.pmf(i,n,p))\n",
    "    print(str(i)+\"\\t\"+str(stats.binom.pmf(i,n,p)))"
   ]
  },
  {
   "cell_type": "code",
   "execution_count": 79,
   "id": "6666bb1a-c1d3-4d3f-b339-420485cb5e15",
   "metadata": {},
   "outputs": [
    {
     "data": {
      "image/png": "[encoded data removed]",
      "text/plain": [
       "<Figure size 432x288 with 1 Axes>"
      ]
     },
     "metadata": {
      "needs_background": "light"
     },
     "output_type": "display_data"
    }
   ],
   "source": [
    "plt.bar(list(range(n+1)), dist)\n",
    "plt.show;"
   ]
  },
  {
   "cell_type": "markdown",
   "id": "878c6ec7-06ba-488f-b365-24d6dbbe0fc6",
   "metadata": {},
   "source": [
    "# **Poisson Distribution**\n",
    "\n",
    "*Source: Wackerly, D., Mendenhall, W., & Scheaffer, R. L. (2014). Mathematical statistics with applications. Cengage Learning.*"
   ]
  },
  {
   "cell_type": "markdown",
   "id": "a5c0bdd5-8c4e-4aa8-9fef-0a4f5444dbd0",
   "metadata": {},
   "source": [
    "Suppose that a random system of police patrol is devised so that a patrol officer may visit a given beat location Y = 0, 1, 2, 3, . . . times per half-hour period, with each location being visited an average of once per time period. \n",
    "\n",
    "Assume that Y possesses, approximately, a Poisson probability distribution. \n",
    "\n",
    "Calculate the probability that the patrol officer will miss a given location during a half-hour period. \n",
    "\n",
    "What is the probability that it will be visited once? \n",
    "\n",
    "Twice? \n",
    "\n",
    "At least once?"
   ]
  },
  {
   "cell_type": "code",
   "execution_count": 80,
   "id": "02c197e7-cb9d-463f-8843-85dcc4e692aa",
   "metadata": {},
   "outputs": [],
   "source": [
    "# For this example the time period is a half-hour, and the mean number of visits per half-hour interval is λ = 1. Then\n",
    "mu = 1"
   ]
  },
  {
   "cell_type": "markdown",
   "id": "d8402554-4e91-46cb-bf49-fd5eb4d6913d",
   "metadata": {},
   "source": [
    "P(Y = 0) = ?"
   ]
  },
  {
   "cell_type": "code",
   "execution_count": 81,
   "id": "0712e94e-f9e4-473e-a903-aa307c048fd3",
   "metadata": {},
   "outputs": [
    {
     "data": {
      "text/plain": [
       "0.36787944117144233"
      ]
     },
     "execution_count": 81,
     "metadata": {},
     "output_type": "execute_result"
    }
   ],
   "source": [
    "stats.poisson.pmf(0, mu)"
   ]
  },
  {
   "cell_type": "markdown",
   "id": "47779bb2-3053-4de3-bfe0-19cf1649ad27",
   "metadata": {},
   "source": [
    "P(Y = 1) = ?"
   ]
  },
  {
   "cell_type": "code",
   "execution_count": 82,
   "id": "d1b142cf-7d52-4e0b-8ff2-a72d10b59b0f",
   "metadata": {},
   "outputs": [
    {
     "data": {
      "text/plain": [
       "0.36787944117144233"
      ]
     },
     "execution_count": 82,
     "metadata": {},
     "output_type": "execute_result"
    }
   ],
   "source": [
    "stats.poisson.pmf(1,mu)"
   ]
  },
  {
   "cell_type": "markdown",
   "id": "97f5c4e1-a244-469c-8c1b-bd45bffe7172",
   "metadata": {},
   "source": [
    "P(Y = 2) = ?"
   ]
  },
  {
   "cell_type": "code",
   "execution_count": 83,
   "id": "c42ab9cf-0043-495a-8ce0-d7c6c1ff2ff5",
   "metadata": {},
   "outputs": [
    {
     "data": {
      "text/plain": [
       "0.18393972058572114"
      ]
     },
     "execution_count": 83,
     "metadata": {},
     "output_type": "execute_result"
    }
   ],
   "source": [
    "stats.poisson.pmf(2,mu)"
   ]
  },
  {
   "cell_type": "markdown",
   "id": "863f469d-b8ae-4103-a324-c0b75708b764",
   "metadata": {},
   "source": [
    "P(Y ≥ 1) = ?"
   ]
  },
  {
   "cell_type": "code",
   "execution_count": 84,
   "id": "492c2fda-6584-4d4a-bbab-591a167b9fcd",
   "metadata": {},
   "outputs": [
    {
     "data": {
      "text/plain": [
       "0.6321205588285577"
      ]
     },
     "execution_count": 84,
     "metadata": {},
     "output_type": "execute_result"
    }
   ],
   "source": [
    "1 - stats.poisson.pmf(0,mu)"
   ]
  },
  {
   "cell_type": "code",
   "execution_count": 85,
   "id": "0c2a0f98-300d-440e-aa9c-2122beddcddc",
   "metadata": {},
   "outputs": [
    {
     "data": {
      "text/plain": [
       "0.6321205588285576"
      ]
     },
     "execution_count": 85,
     "metadata": {},
     "output_type": "execute_result"
    }
   ],
   "source": [
    "1 - stats.poisson.cdf(0, mu)"
   ]
  },
  {
   "cell_type": "markdown",
   "id": "08c66b80-39c4-4568-b2d9-5d1dfe783d80",
   "metadata": {},
   "source": [
    "P(Y ≥ 3) = ?"
   ]
  },
  {
   "cell_type": "code",
   "execution_count": 86,
   "id": "f5894e58-08b7-4a93-be84-36c204a09ba3",
   "metadata": {},
   "outputs": [
    {
     "data": {
      "text/plain": [
       "0.08030139707139416"
      ]
     },
     "execution_count": 86,
     "metadata": {},
     "output_type": "execute_result"
    }
   ],
   "source": [
    "1 - stats.poisson.cdf(2,mu)"
   ]
  },
  {
   "cell_type": "markdown",
   "id": "6b2ea346-9db9-4fdc-a629-63344899f9c0",
   "metadata": {},
   "source": [
    "# **:)##############################(:**"
   ]
  },
  {
   "cell_type": "markdown",
   "id": "97b308a1-98d1-4ed9-bf14-d70f0e033353",
   "metadata": {},
   "source": [
    "# **Normal Distribution**\n",
    "*Source: Wackerly, D., Mendenhall, W., & Scheaffer, R. L. (2014). Mathematical statistics with applications. Cengage Learning.*"
   ]
  },
  {
   "cell_type": "markdown",
   "id": "229e772f-2bfb-4404-8258-0609fd45fa3a",
   "metadata": {},
   "source": [
    "**Exercise 4.74**\n",
    "\n",
    "Scores on an examination are assumed to be normally distributed with mean 78 and variance 36."
   ]
  },
  {
   "cell_type": "markdown",
   "id": "e12f0a40-8f69-4f5b-b0c7-c58345f282cd",
   "metadata": {},
   "source": [
    "a. What is the probability that a person taking the examination scores higher than 72?"
   ]
  },
  {
   "cell_type": "markdown",
   "id": "606500d8-ff10-4b64-aea5-66fe32ef0a64",
   "metadata": {},
   "source": [
    "this is P(X>72)"
   ]
  },
  {
   "cell_type": "code",
   "execution_count": 87,
   "id": "614f9dc0-1c4d-475b-8031-054b37413b2c",
   "metadata": {},
   "outputs": [],
   "source": [
    "mu = 78 # mean\n",
    "sigma = np.sqrt(36) # standart sapma\n",
    "x = 72\n",
    "# ortalaması 78 olan, varyansı 36 olan normal bir dağılım var.\n",
    "# sigma varyansın karekökü olduğundan sigmayı bulabilirim.\n",
    "# cdf ile 72'e kadar olan toplamı bulurum sonra 1 den cdf (72) yi çıkartırım."
   ]
  },
  {
   "cell_type": "code",
   "execution_count": 88,
   "id": "1755af4d-d0a4-46c1-b3ef-b3dc95363944",
   "metadata": {},
   "outputs": [
    {
     "data": {
      "text/plain": [
       "0.8413447460685429"
      ]
     },
     "execution_count": 88,
     "metadata": {},
     "output_type": "execute_result"
    }
   ],
   "source": [
    "1 - stats.norm.cdf(x, mu, sigma) # alan hesabı old. için cdf"
   ]
  },
  {
   "cell_type": "markdown",
   "id": "84a0473b-f220-4159-942c-a2027cd02b6d",
   "metadata": {},
   "source": [
    "b. Suppose that students scoring in the top 10% of this distribution are to receive an **A** grade.\n",
    "What is the minimum score a student must achieve to earn an **A** grade?"
   ]
  },
  {
   "cell_type": "code",
   "execution_count": 89,
   "id": "43a1e122-e20f-4879-88ab-6b1999989acb",
   "metadata": {},
   "outputs": [],
   "source": [
    "# ppf'in cdf'in tersidir yani ppf() fonksiyounun içine cdf(X)'i (X'e kadar olan kümülatif toplam p'yi) koyarsan X değerine ulaşırsın.\n",
    "#cdf:  x değerini içine alır, ona kadar olan toplam p'yi verir\n",
    "#ppf:  x değerine kadar olan toplam p'yi içine alır, x değerini verir."
   ]
  },
  {
   "cell_type": "code",
   "execution_count": 90,
   "id": "37c31778-0f0e-4bc6-80e9-94bb4056b367",
   "metadata": {},
   "outputs": [
    {
     "data": {
      "text/plain": [
       "0.9"
      ]
     },
     "execution_count": 90,
     "metadata": {},
     "output_type": "execute_result"
    }
   ],
   "source": [
    "q = 1 - 0.1\n",
    "q"
   ]
  },
  {
   "cell_type": "code",
   "execution_count": 91,
   "id": "a5aa75bb-0a4c-4c4b-a648-58db7d46a817",
   "metadata": {},
   "outputs": [
    {
     "data": {
      "text/plain": [
       "85.6893093932676"
      ]
     },
     "execution_count": 91,
     "metadata": {},
     "output_type": "execute_result"
    }
   ],
   "source": [
    "stats.norm.ppf(q, mu, sigma)"
   ]
  },
  {
   "cell_type": "code",
   "execution_count": 92,
   "id": "875db60e-191a-4f28-a44c-7b3c58c4ab13",
   "metadata": {},
   "outputs": [
    {
     "data": {
      "text/plain": [
       "0.9003123403704779"
      ]
     },
     "execution_count": 92,
     "metadata": {},
     "output_type": "execute_result"
    }
   ],
   "source": [
    "stats.norm.cdf(85.7, mu , sigma)\n",
    "# cdf'in içine parametre olarak ppf'i elle koyduk (X=85.7 değeri) ve p ye ulaştık"
   ]
  },
  {
   "cell_type": "markdown",
   "id": "b122ae12-8ff7-4bb9-8efa-846878752584",
   "metadata": {},
   "source": [
    "c. What must be the cutoff point for passing the examination if the examiner wants only the\n",
    "top 28.1% of all scores to be passing?"
   ]
  },
  {
   "cell_type": "code",
   "execution_count": 93,
   "id": "0a21e6a4-4f8e-45bc-9f93-32bc929e0231",
   "metadata": {},
   "outputs": [],
   "source": [
    "# Top 28.1 %'e girmek için alman gereken not nedir?"
   ]
  },
  {
   "cell_type": "code",
   "execution_count": 94,
   "id": "7fca8309-eb38-4415-9765-87ec921c8866",
   "metadata": {},
   "outputs": [
    {
     "data": {
      "text/plain": [
       "0.719"
      ]
     },
     "execution_count": 94,
     "metadata": {},
     "output_type": "execute_result"
    }
   ],
   "source": [
    "q = 1 - 0.281 \n",
    "q\n",
    "# ppf() içine 1- 0.28 kümülatif p değerini koyup buna karşılık gelen X değerini (notu) bulacağım. "
   ]
  },
  {
   "cell_type": "code",
   "execution_count": 95,
   "id": "5ac34991-61ff-4fac-9fe0-b62a0412d960",
   "metadata": {},
   "outputs": [
    {
     "data": {
      "text/plain": [
       "81.47924035456623"
      ]
     },
     "execution_count": 95,
     "metadata": {},
     "output_type": "execute_result"
    }
   ],
   "source": [
    "stats.norm.ppf(q, mu, sigma)\n",
    "# 81.48 not alırsam top 28.1% lik kısım içine girerim. "
   ]
  },
  {
   "cell_type": "markdown",
   "id": "3d3856de-a41a-41a0-a53f-713c9b95c25b",
   "metadata": {},
   "source": [
    "d. Approximately what proportion of students have scores 5 or more points above the score\n",
    "that cuts off the lowest 25%?"
   ]
  },
  {
   "cell_type": "code",
   "execution_count": 96,
   "id": "3a0a4dad-c893-43cf-828e-f731a14aa008",
   "metadata": {},
   "outputs": [],
   "source": [
    "# Önce olasılıktan değere giden ppf() i kullanacağız sonra o nota 5 ekleyip bu değerden olasılığa giden cdf'i kullanıp bulduğumuz \n",
    "# yüzde değeri 1'den çıkartacağız ki bu nottan fazla not alma olasılığını bulayım."
   ]
  },
  {
   "cell_type": "code",
   "execution_count": 97,
   "id": "869a0886-0d61-4c6a-a6e4-45db5c93fe93",
   "metadata": {},
   "outputs": [
    {
     "data": {
      "text/plain": [
       "73.95306149882352"
      ]
     },
     "execution_count": 97,
     "metadata": {},
     "output_type": "execute_result"
    }
   ],
   "source": [
    "q1 = 0.25\n",
    "x1 = stats.norm.ppf(q1, mu, sigma)\n",
    "x1\n",
    "# Minimum %25 lik kesime giren not: 73.95"
   ]
  },
  {
   "cell_type": "code",
   "execution_count": 98,
   "id": "8b7b3191-d9b3-4d0f-91e6-0439041e940c",
   "metadata": {},
   "outputs": [
    {
     "data": {
      "text/plain": [
       "0.43689605516226615"
      ]
     },
     "execution_count": 98,
     "metadata": {},
     "output_type": "execute_result"
    }
   ],
   "source": [
    "1 - stats.norm.cdf(x1 + 5, mu, sigma)\n",
    "# 78.95 e kadar olan notların olasılığını 1 den çıkararak yüksek değerlerin olasılığını buluruz."
   ]
  },
  {
   "cell_type": "markdown",
   "id": "5295e3fc-e9f0-4b86-bfe8-26be8f3bfc8b",
   "metadata": {},
   "source": [
    "f. If it is known that a student’s score exceeds 72, what is the probability that his or her score exceeds 84?"
   ]
  },
  {
   "cell_type": "code",
   "execution_count": 99,
   "id": "42811de7-30dd-4501-89f7-81a5dd64d2b6",
   "metadata": {},
   "outputs": [],
   "source": [
    "# Bir öğrencinin notu 72 geciyor ve 84 ü gecme olasılığını soruyor burada cpnditional prop. vardır.\n",
    "# 72'den fazla not alanların arasında 84'den büyük not alanların olasılığı nedir ?"
   ]
  },
  {
   "cell_type": "code",
   "execution_count": 100,
   "id": "995dc897-63ac-4dae-910a-60d52a29e35a",
   "metadata": {},
   "outputs": [],
   "source": [
    "# P(x > 84) / P(x > 72)"
   ]
  },
  {
   "cell_type": "code",
   "execution_count": 101,
   "id": "5980cc37-d828-45f3-a79d-3e8234d00eb1",
   "metadata": {},
   "outputs": [
    {
     "data": {
      "text/plain": [
       "0.15865525393145707"
      ]
     },
     "execution_count": 101,
     "metadata": {},
     "output_type": "execute_result"
    }
   ],
   "source": [
    "a = 1 - stats.norm.cdf(84, mu, sigma)\n",
    "a"
   ]
  },
  {
   "cell_type": "code",
   "execution_count": 102,
   "id": "436f33cc-9f9b-42c4-9c7b-67f857f04d71",
   "metadata": {},
   "outputs": [
    {
     "data": {
      "text/plain": [
       "0.8413447460685429"
      ]
     },
     "execution_count": 102,
     "metadata": {},
     "output_type": "execute_result"
    }
   ],
   "source": [
    "b = 1 - stats.norm.cdf(72, mu, sigma)\n",
    "b"
   ]
  },
  {
   "cell_type": "code",
   "execution_count": 103,
   "id": "8977ea31-ed7d-4304-a027-34359683f757",
   "metadata": {},
   "outputs": [
    {
     "data": {
      "text/plain": [
       "0.18857341734506025"
      ]
     },
     "execution_count": 103,
     "metadata": {},
     "output_type": "execute_result"
    }
   ],
   "source": [
    "a / b"
   ]
  },
  {
   "cell_type": "markdown",
   "id": "310cc13e-e252-4b89-acb8-e002f59c38e6",
   "metadata": {},
   "source": [
    "# **t Distribution**\n",
    "*Lane, D. (2006). Online statistics education: a multimedia course of study (http://onlinestatbook.com/). Rice University.*"
   ]
  },
  {
   "cell_type": "code",
   "execution_count": 104,
   "id": "463df621-f4a9-45f4-839c-0dfc953a8831",
   "metadata": {},
   "outputs": [],
   "source": [
    "# Popülasyonun sigmasını (std) bilmiyorsanız,sample size (n) 30 dan küçükse t dağılımı kullanıyoruz.\n",
    "# t-distribution normal distribution'a yakın bir görünümdedir ama ufak farklılıkları var.\n",
    "# t-distribution degrees of freedom (serbestlik derecesine) göre değişir. \n",
    "# Elinizdeki her serbestlik derecesinde farlı bir görümüm çıkar"
   ]
  },
  {
   "cell_type": "markdown",
   "id": "279bbc63-eb9d-448d-b33a-2f49a8c57ee1",
   "metadata": {},
   "source": [
    "For a t distribution with 15 degrees of freedom, 90% of the distribution is within how many standard deviations of the mean?"
   ]
  },
  {
   "cell_type": "code",
   "execution_count": 105,
   "id": "11783f3d-f187-4554-af5e-f488b96b8645",
   "metadata": {},
   "outputs": [],
   "source": [
    "# 15 serbestlik derecesi ile Ortalamadan sağa ve sola kaç standart sapma uzaklaşmam lazım ki ortada kalan alan datanın 90%'ını oluştursun? (veriler bu limitler arasında kalsın)\n",
    "# Bu durumda soru işareti olan noktaya göre benim kümülatif olasılık değerim 0.95 dir.\n",
    "# Kümülatif olasılıktan değere gittiğim fonksiyon ppf() idi. önce istediğim noktaya ait kümülatif olasılığı buldum (0.95). \n",
    "# Şimdi onu ppf'in içine koyacağım ve karşılık gelen değeri bulacağım."
   ]
  },
  {
   "cell_type": "code",
   "execution_count": 106,
   "id": "f69c9e6e-01db-4996-bf48-5a2d221d068d",
   "metadata": {},
   "outputs": [],
   "source": [
    "dof = 15 # serbestlik derecesi, 30 dan küçük sample larda std için t dağılımı kullanılır.\n",
    "q = 0.95 # %5 -t ----- t ye kadar ki alan %95"
   ]
  },
  {
   "cell_type": "code",
   "execution_count": 107,
   "id": "1d38f0e9-a3c8-4739-a668-09191ba2f3e0",
   "metadata": {},
   "outputs": [
    {
     "data": {
      "text/plain": [
       "1.7530503556925547"
      ]
     },
     "execution_count": 107,
     "metadata": {},
     "output_type": "execute_result"
    }
   ],
   "source": [
    "stats.t.ppf(q, dof)\n",
    "# Olasılıktan değere gidiyorum. ppf kullanıyorum, içine de o noktaya ait cdf i koyacağım (0.95'i)"
   ]
  },
  {
   "cell_type": "code",
   "execution_count": 108,
   "id": "a57f1342-4a5f-4540-86bf-65391d90336b",
   "metadata": {},
   "outputs": [
    {
     "data": {
      "image/png": "[encoded data removed]",
      "text/plain": [
       "<Figure size 576x432 with 1 Axes>"
      ]
     },
     "metadata": {
      "needs_background": "light"
     },
     "output_type": "display_data"
    }
   ],
   "source": [
    "plt.figure(figsize=(8,6))\n",
    "xs = np.linspace(-5,5,1000)\n",
    "\n",
    "plt.plot(xs, stats.t.pdf(xs, 1), \"b\", label=\"t (df=1)\")\n",
    "plt.plot(xs, stats.t.pdf(xs, 3), \"g\", label=\"t (df=3)\")\n",
    "plt.plot(xs, stats.t.pdf(xs, 8), \"c\", label=\"t (df=8)\")\n",
    "plt.plot(xs, stats.t.pdf(xs, 15), \"m\", label=\"t (df=15)\")\n",
    "plt.plot(xs, stats.norm.pdf(xs), \"k\", label=\"Normal\")\n",
    "plt.legend()\n",
    "plt.show();\n",
    "\n",
    "# t dağılımı daha basık (spread daha fazla), standard deviation daha büyük.\n",
    "# serbestlik derecesi daha yüksek olan t dağılımının normal dağılıma daha yakın olduğunu görebiliyorum.\n"
   ]
  },
  {
   "cell_type": "code",
   "execution_count": 109,
   "id": "59b94607-8ee4-4822-986a-8a60fba06c8e",
   "metadata": {},
   "outputs": [],
   "source": [
    "# Yukardaki grafikte serbestlik dereceleri (v) (yani sample size (n)-1) arttıkça grafik normal dağılıma yaklaşıyor. \n",
    "# Düşük serbestlik derecelerinde grafik daha basık iken yani standart dağılımı daha fazla iken bu rakam 30'a yaklaştıkça dağılım azalır ve\n",
    "# normal dağılıma yaklaşır ve v = sonsuz olduğunda ise tam olarak normal dağılıma eşit olur. \n",
    "# Serbestlik derecesi 30 dan fazla olan dağılımı artık normal dağılım olarak alabiliriz"
   ]
  },
  {
   "cell_type": "code",
   "execution_count": 110,
   "id": "36439ba7-316f-4ed0-9d39-c811a20bd4f4",
   "metadata": {},
   "outputs": [],
   "source": [
    "# t-dağılımı (örneklem sayısı az olduğu için) standart normal dağılıma göre daha basık, yayılımı daha fazladır. n, örneklem sayısı 30’a yaklaştıkça t dağılımı normal dağılıma benzemeye başlar. \n",
    "# Bunun nedeni, sample’ın düşük örneklem sayısıdır. \n",
    "# Düşük sayıda örnekleme sahip bir sample da; bir değerin mean’den 1 birim uzakta olmasının dağılıma etkisi ile yüksek sayıda örnekleme sahip bir sampledaki bir değerin mean’den bir birim uzakta olmasının dağılıma etkisi elbette farklı olacaktır.\n",
    "# Az sayıda örneklem olduğunda her bir observation’ın ağırlığı, kıymeti ve dolayısıyla dağılıma olan etkisi çok sayıdaki örneklem sayısında olduğundan daha fazla olur.\n",
    "# Standart deviation, dağılımla (variation’la) alakalı bir kavramdır, dağılım ise value’lerin (X’lerin) mean’e (oralamaya) göre ne kadar uzakta olduğu ile ilgilidir. X’ler mean’den ne kadar uzakta ise haliyle bu daha büyük bir dağılıma işaret edecektir.\n",
    "# Dağılımın fazla olması standart deviation’ın yüksek olması demektir. Burdan hareketle; düşük örneklem sayısına sahip sample’ın standart dağılımı yani yayılımı daha büyük olacaktır. Standart deviation’a “standart eror” denmesinin nedeni de budur. "
   ]
  },
  {
   "cell_type": "markdown",
   "id": "496dd91d-e431-4a30-99e5-f0e4cce9421e",
   "metadata": {},
   "source": [
    "# **Confidence Intervals Using the Normal Distribution**"
   ]
  },
  {
   "cell_type": "markdown",
   "id": "929d3b12-d73d-4c3a-8a15-87975bf53e9b",
   "metadata": {},
   "source": [
    "If we’re working with larger samples (n≥30), we can assume that the sampling distribution of the sample mean is normally distributed (thanks to the Central Limit Theorem) and can instead use the norm.interval() function from the scipy.stats library."
   ]
  },
  {
   "cell_type": "code",
   "execution_count": 111,
   "id": "57e40360-0d61-4b91-a4b1-46aa69338659",
   "metadata": {},
   "outputs": [],
   "source": [
    "# Normal dağılımı kullanarak güven aralığı hesaplama.."
   ]
  },
  {
   "cell_type": "markdown",
   "id": "29482156-69b5-479d-968b-6457f20dfb23",
   "metadata": {},
   "source": [
    "- Güven aralığını ortalamanın üzerine oluşturacaksak önce bir point estimator'u (sample mean) koyuyoruz.\n",
    "\n",
    "- Sonra buna \" - \" koyarak işlemi yaptığımızda lower limiti, \" + \" koyarak işlemi yaptığımızda upper limiti buluyoruz. \n",
    "\n",
    "- -/+ dan sonraki kısma \"margin of eror\" diyoruz yani \"hata marjini\".\n",
    "\n",
    "- Hata marjini nasıl hesaplanıyor? : \n",
    "- Yüzde kaç güven aralığında hesaplamak istiyorsan ona göre CONFIDENCE MULTIPLIER (Z* ya da Zα/2 ) ile standart hata (sigma/kök n)'yı çarpıyoruz. \n",
    "- (Aslında bu sample mean'imizin standart sapması oluyor biz buna kısaca standart eror diyoruz.(burada α (alfa) --> significant level)\n",
    "\n",
    "- (sample mean'in standart sapması = standart eror = σ / √n)\n",
    "\n",
    "- Ci'nin lower limiti = sample mean - z* . σ / √n\n",
    "- Ci'nin upper limiti = sample mean + z* . σ / √n\n",
    "\n",
    "- Sample size 30 dan büyük ise --> normal dağılım, \n",
    "- Sample size 30'dan küçükse --> t dağılımı kullanacağız.\n",
    "\n",
    "- Popülasyonun standart dağılımını biliyorsan --> normal dağılım kullanabilirsin.\n",
    "- Standart dağılımı bilmiyorsan --> t dağılımını kullanabilirsin!!"
   ]
  },
  {
   "cell_type": "code",
   "execution_count": 112,
   "id": "066495fc-9132-4766-816c-0edfe5e1a245",
   "metadata": {},
   "outputs": [
    {
     "data": {
      "text/plain": [
       "['anagrams',\n",
       " 'anscombe',\n",
       " 'attention',\n",
       " 'brain_networks',\n",
       " 'car_crashes',\n",
       " 'diamonds',\n",
       " 'dots',\n",
       " 'exercise',\n",
       " 'flights',\n",
       " 'fmri',\n",
       " 'gammas',\n",
       " 'geyser',\n",
       " 'iris',\n",
       " 'mpg',\n",
       " 'penguins',\n",
       " 'planets',\n",
       " 'taxis',\n",
       " 'tips',\n",
       " 'titanic']"
      ]
     },
     "execution_count": 112,
     "metadata": {},
     "output_type": "execute_result"
    }
   ],
   "source": [
    "sns.get_dataset_names()"
   ]
  },
  {
   "cell_type": "markdown",
   "id": "1ee434dd-90a3-4aa7-b03e-0ede6574f0f0",
   "metadata": {},
   "source": [
    "1. Load \"tips\" dataset from Seaborn library"
   ]
  },
  {
   "cell_type": "code",
   "execution_count": 113,
   "id": "0cbc9521-7a73-42ab-8fdd-50cdb8298914",
   "metadata": {},
   "outputs": [
    {
     "data": {
      "text/html": [
       "<div>\n",
       "<style scoped>\n",
       "    .dataframe tbody tr th:only-of-type {\n",
       "        vertical-align: middle;\n",
       "    }\n",
       "\n",
       "    .dataframe tbody tr th {\n",
       "        vertical-align: top;\n",
       "    }\n",
       "\n",
       "    .dataframe thead th {\n",
       "        text-align: right;\n",
       "    }\n",
       "</style>\n",
       "<table border=\"1\" class=\"dataframe\">\n",
       "  <thead>\n",
       "    <tr style=\"text-align: right;\">\n",
       "      <th></th>\n",
       "      <th>total_bill</th>\n",
       "      <th>tip</th>\n",
       "      <th>sex</th>\n",
       "      <th>smoker</th>\n",
       "      <th>day</th>\n",
       "      <th>time</th>\n",
       "      <th>size</th>\n",
       "    </tr>\n",
       "  </thead>\n",
       "  <tbody>\n",
       "    <tr>\n",
       "      <th>0</th>\n",
       "      <td>16.99</td>\n",
       "      <td>1.01</td>\n",
       "      <td>Female</td>\n",
       "      <td>No</td>\n",
       "      <td>Sun</td>\n",
       "      <td>Dinner</td>\n",
       "      <td>2</td>\n",
       "    </tr>\n",
       "    <tr>\n",
       "      <th>1</th>\n",
       "      <td>10.34</td>\n",
       "      <td>1.66</td>\n",
       "      <td>Male</td>\n",
       "      <td>No</td>\n",
       "      <td>Sun</td>\n",
       "      <td>Dinner</td>\n",
       "      <td>3</td>\n",
       "    </tr>\n",
       "    <tr>\n",
       "      <th>2</th>\n",
       "      <td>21.01</td>\n",
       "      <td>3.50</td>\n",
       "      <td>Male</td>\n",
       "      <td>No</td>\n",
       "      <td>Sun</td>\n",
       "      <td>Dinner</td>\n",
       "      <td>3</td>\n",
       "    </tr>\n",
       "    <tr>\n",
       "      <th>3</th>\n",
       "      <td>23.68</td>\n",
       "      <td>3.31</td>\n",
       "      <td>Male</td>\n",
       "      <td>No</td>\n",
       "      <td>Sun</td>\n",
       "      <td>Dinner</td>\n",
       "      <td>2</td>\n",
       "    </tr>\n",
       "    <tr>\n",
       "      <th>4</th>\n",
       "      <td>24.59</td>\n",
       "      <td>3.61</td>\n",
       "      <td>Female</td>\n",
       "      <td>No</td>\n",
       "      <td>Sun</td>\n",
       "      <td>Dinner</td>\n",
       "      <td>4</td>\n",
       "    </tr>\n",
       "  </tbody>\n",
       "</table>\n",
       "</div>"
      ],
      "text/plain": [
       "   total_bill   tip     sex smoker  day    time  size\n",
       "0       16.99  1.01  Female     No  Sun  Dinner     2\n",
       "1       10.34  1.66    Male     No  Sun  Dinner     3\n",
       "2       21.01  3.50    Male     No  Sun  Dinner     3\n",
       "3       23.68  3.31    Male     No  Sun  Dinner     2\n",
       "4       24.59  3.61  Female     No  Sun  Dinner     4"
      ]
     },
     "execution_count": 113,
     "metadata": {},
     "output_type": "execute_result"
    }
   ],
   "source": [
    "tips = sns.load_dataset(\"tips\")\n",
    "tips.head()"
   ]
  },
  {
   "cell_type": "markdown",
   "id": "308ea29d-cb13-4239-a51e-a380a4d9f2af",
   "metadata": {},
   "source": [
    "2. Draw a set of vertical bar plots (based on \"total_bill\") grouped by \"day\" variable:"
   ]
  },
  {
   "cell_type": "code",
   "execution_count": 114,
   "id": "f313bd9f-7e83-4a1b-98aa-5bc1da9bb84a",
   "metadata": {},
   "outputs": [],
   "source": [
    "# Herhangi bir sayı verilmez ise Ci (confidence interval): default olarak 95 tir.\n",
    "# Bu, alfa'nın (significance level) 0.05 % olması anlamına geliyor (1 - 0.95)\n",
    "# Barplot için güven aralığımı %95 olarak seçeceğim."
   ]
  },
  {
   "cell_type": "code",
   "execution_count": 115,
   "id": "0e3f7ea5-5996-46ef-b7c8-4aef78e1c03e",
   "metadata": {},
   "outputs": [
    {
     "data": {
      "image/png": "[encoded data removed]",
      "text/plain": [
       "<Figure size 432x288 with 1 Axes>"
      ]
     },
     "metadata": {
      "needs_background": "light"
     },
     "output_type": "display_data"
    }
   ],
   "source": [
    "sns.barplot(x = \"day\", y =\"total_bill\", data=tips, ci=95)\n",
    "plt.show()\n",
    "# burada gruplarayarak bir çizim yaptırmış oldum. \n",
    "# bu plot aggregation olarak grupların neyini alıyor? average'ını alıyor. \n",
    "# o yüzden benim mean dememe gerek kalmayacak"
   ]
  },
  {
   "cell_type": "code",
   "execution_count": 116,
   "id": "449c842a-c8b2-42ed-a38f-83d38e1ac850",
   "metadata": {},
   "outputs": [],
   "source": [
    "# Güven aralığını Ci büyütürsem çubukların boyları uzayacaktır. \n",
    "# Daha yüksek bir güvenilirlik demek daha büyük bir aralık demek, daha büyük bir aralığı kabul etmek durumundayım. \n",
    "# (mean, 95 % olasılıkla 100-150 aralığında ise, tabi ki bunun 90-180 aralığında olma ihtimali daha yüksek olur.)  "
   ]
  },
  {
   "cell_type": "markdown",
   "id": "bd6e144e-1445-4e58-9119-dbc5ac77ef4e",
   "metadata": {},
   "source": [
    "3. Subset a dataframe just including Sunday tips"
   ]
  },
  {
   "cell_type": "code",
   "execution_count": 117,
   "id": "a1e35316-3dfb-48cc-9eb4-cee9a3472fd1",
   "metadata": {},
   "outputs": [
    {
     "data": {
      "text/html": [
       "<div>\n",
       "<style scoped>\n",
       "    .dataframe tbody tr th:only-of-type {\n",
       "        vertical-align: middle;\n",
       "    }\n",
       "\n",
       "    .dataframe tbody tr th {\n",
       "        vertical-align: top;\n",
       "    }\n",
       "\n",
       "    .dataframe thead th {\n",
       "        text-align: right;\n",
       "    }\n",
       "</style>\n",
       "<table border=\"1\" class=\"dataframe\">\n",
       "  <thead>\n",
       "    <tr style=\"text-align: right;\">\n",
       "      <th></th>\n",
       "      <th>total_bill</th>\n",
       "      <th>tip</th>\n",
       "      <th>sex</th>\n",
       "      <th>smoker</th>\n",
       "      <th>day</th>\n",
       "      <th>time</th>\n",
       "      <th>size</th>\n",
       "    </tr>\n",
       "  </thead>\n",
       "  <tbody>\n",
       "    <tr>\n",
       "      <th>0</th>\n",
       "      <td>16.99</td>\n",
       "      <td>1.01</td>\n",
       "      <td>Female</td>\n",
       "      <td>No</td>\n",
       "      <td>Sun</td>\n",
       "      <td>Dinner</td>\n",
       "      <td>2</td>\n",
       "    </tr>\n",
       "    <tr>\n",
       "      <th>1</th>\n",
       "      <td>10.34</td>\n",
       "      <td>1.66</td>\n",
       "      <td>Male</td>\n",
       "      <td>No</td>\n",
       "      <td>Sun</td>\n",
       "      <td>Dinner</td>\n",
       "      <td>3</td>\n",
       "    </tr>\n",
       "    <tr>\n",
       "      <th>2</th>\n",
       "      <td>21.01</td>\n",
       "      <td>3.50</td>\n",
       "      <td>Male</td>\n",
       "      <td>No</td>\n",
       "      <td>Sun</td>\n",
       "      <td>Dinner</td>\n",
       "      <td>3</td>\n",
       "    </tr>\n",
       "    <tr>\n",
       "      <th>3</th>\n",
       "      <td>23.68</td>\n",
       "      <td>3.31</td>\n",
       "      <td>Male</td>\n",
       "      <td>No</td>\n",
       "      <td>Sun</td>\n",
       "      <td>Dinner</td>\n",
       "      <td>2</td>\n",
       "    </tr>\n",
       "    <tr>\n",
       "      <th>4</th>\n",
       "      <td>24.59</td>\n",
       "      <td>3.61</td>\n",
       "      <td>Female</td>\n",
       "      <td>No</td>\n",
       "      <td>Sun</td>\n",
       "      <td>Dinner</td>\n",
       "      <td>4</td>\n",
       "    </tr>\n",
       "  </tbody>\n",
       "</table>\n",
       "</div>"
      ],
      "text/plain": [
       "   total_bill   tip     sex smoker  day    time  size\n",
       "0       16.99  1.01  Female     No  Sun  Dinner     2\n",
       "1       10.34  1.66    Male     No  Sun  Dinner     3\n",
       "2       21.01  3.50    Male     No  Sun  Dinner     3\n",
       "3       23.68  3.31    Male     No  Sun  Dinner     2\n",
       "4       24.59  3.61  Female     No  Sun  Dinner     4"
      ]
     },
     "execution_count": 117,
     "metadata": {},
     "output_type": "execute_result"
    }
   ],
   "source": [
    "tipsSun = tips[tips[\"day\"]==\"Sun\"]\n",
    "tipsSun.head()\n",
    "# tips datasetinden gün = Pazar olan satırları çekerek yeni bir dataset oluşturdum"
   ]
  },
  {
   "cell_type": "markdown",
   "id": "9c02126f-ecda-414f-8b6f-d2e3a7a32360",
   "metadata": {},
   "source": [
    "4. Calculate mean and std"
   ]
  },
  {
   "cell_type": "code",
   "execution_count": 118,
   "id": "6dbe8144-21dc-483d-a8fb-55f20110f789",
   "metadata": {},
   "outputs": [
    {
     "data": {
      "text/plain": [
       "21.410000000000004"
      ]
     },
     "execution_count": 118,
     "metadata": {},
     "output_type": "execute_result"
    }
   ],
   "source": [
    "tipsSun[\"total_bill\"].mean()\n",
    "# pazar günü ortalama fatura miktarı 21.41"
   ]
  },
  {
   "cell_type": "code",
   "execution_count": 119,
   "id": "f19bb9ba-9765-41bc-80f2-3ede4a0cbe70",
   "metadata": {},
   "outputs": [
    {
     "data": {
      "text/plain": [
       "8.832121828869889"
      ]
     },
     "execution_count": 119,
     "metadata": {},
     "output_type": "execute_result"
    }
   ],
   "source": [
    "tipsSun[\"total_bill\"].std()\n",
    "#  pazar günkü faturaların standart sapması 8.83"
   ]
  },
  {
   "cell_type": "markdown",
   "id": "0dcc1dc4-0713-402c-9c19-49180195c429",
   "metadata": {},
   "source": [
    "5. Calculate standart error of the mean"
   ]
  },
  {
   "cell_type": "code",
   "execution_count": 120,
   "id": "051d9c66-67c7-4de3-b1a9-d5d0f8330079",
   "metadata": {},
   "outputs": [],
   "source": [
    "# Bulduğum ortalamanın (21.41) bir güven aralığı var. Zaten biz bunu barplotta da gördüm. Güven aralığını 95% olarak inşa ettim.\n",
    "\n",
    "# Bu ortalama istatistiğinin bir standart hatası var. O neydi? Sigma / kök(n) ( σ / √n ) \n",
    "\n",
    "# n, data frame'imdeki observation sayısı. Bunu len() fonksiyonu ile bulabilirim.\n"
   ]
  },
  {
   "cell_type": "code",
   "execution_count": 121,
   "id": "075e4534-3d89-46b9-9711-ba1325081174",
   "metadata": {},
   "outputs": [
    {
     "data": {
      "text/plain": [
       "1.0131138555021968"
      ]
     },
     "execution_count": 121,
     "metadata": {},
     "output_type": "execute_result"
    }
   ],
   "source": [
    "sem = tipsSun[\"total_bill\"].std() / np.sqrt(len(tipsSun))\n",
    "sem\n",
    "# sem =  standart error of the mean ( σ / √n )\n",
    "# benim ortalama (mean) istatistiğime ilişkin standart hata: \n",
    "# (standart error of the mean) 1.01 çıktı. "
   ]
  },
  {
   "cell_type": "markdown",
   "id": "3f40aef6-0c4c-4e19-b896-2c01eceb1e9e",
   "metadata": {},
   "source": [
    "6. Calculate the margin of error (95%)"
   ]
  },
  {
   "cell_type": "code",
   "execution_count": 122,
   "id": "c64e318d-9b38-45af-a8be-9752e3b61b71",
   "metadata": {},
   "outputs": [],
   "source": [
    "# (sem) standart error of the mean ( σ / √n )\n",
    "# (moe) margin of error  = Confidence multiplier (z*) * standart error of the mean (sem)  -- >    \n",
    "# moe = z* . σ / √n\n",
    "# z* (diğer ifadeyle Zα/2 )derken neyi kastediyoruz? \n",
    "# İstatistiğimin (burada mean değeridir) etrafında 95% lik bir güven aralığı oluşturmaya çalışıyorum. \n",
    "# yani istatistiğim 95% lik alan içinde kalacak ve ben yukardaki şekilde belirtilen x değerine ulaşmaya çalışıyorum. \n",
    "# ortasının yüzdesi 0.95 ise geriye 0.5 kalır ki bu, tail'ların her biri 0.025 anlamına gelir.\n",
    "# yani benim x değerine ulaşabilmem için ppf()'in içinde kullanacağım kümülatif olasılık 0.95+0.025 = 0.975 olacak."
   ]
  },
  {
   "cell_type": "code",
   "execution_count": 123,
   "id": "d4efeab1-6196-496d-805f-73d030627550",
   "metadata": {},
   "outputs": [
    {
     "data": {
      "text/plain": [
       "1.959963984540054"
      ]
     },
     "execution_count": 123,
     "metadata": {},
     "output_type": "execute_result"
    }
   ],
   "source": [
    "z = stats.norm.ppf(0.975)\n",
    "z"
   ]
  },
  {
   "cell_type": "code",
   "execution_count": 124,
   "id": "43e7c642-89a1-443e-b077-1dd2d5cf58b0",
   "metadata": {},
   "outputs": [],
   "source": [
    "# Margin of erroru formülle hesaplarken direkt 1.96 yı (z*'yı) yazıp standart error of the mean ile çarpacağım."
   ]
  },
  {
   "cell_type": "code",
   "execution_count": 125,
   "id": "d0800604-3d8e-46c4-bbd1-de6d85f82b27",
   "metadata": {},
   "outputs": [
    {
     "data": {
      "text/plain": [
       "1.9856666690228222"
      ]
     },
     "execution_count": 125,
     "metadata": {},
     "output_type": "execute_result"
    }
   ],
   "source": [
    "moe = z * sem\n",
    "moe"
   ]
  },
  {
   "cell_type": "markdown",
   "id": "5fc4d4a7-4612-4d34-b91a-fde5226ac196",
   "metadata": {},
   "source": [
    "7. Calculate the upper confidence limit"
   ]
  },
  {
   "cell_type": "code",
   "execution_count": 126,
   "id": "97a2676d-2b62-4442-800a-f2c898499d5e",
   "metadata": {},
   "outputs": [
    {
     "data": {
      "text/plain": [
       "23.395666669022827"
      ]
     },
     "execution_count": 126,
     "metadata": {},
     "output_type": "execute_result"
    }
   ],
   "source": [
    "tipsSun[\"total_bill\"].mean() + moe"
   ]
  },
  {
   "cell_type": "markdown",
   "id": "e16cb7e1-04a2-43aa-af1b-2f3f82691a3c",
   "metadata": {},
   "source": [
    "8. Calculate the lower confidence limit"
   ]
  },
  {
   "cell_type": "code",
   "execution_count": 127,
   "id": "97ced46b-ca07-44e0-96fc-5178ac68de24",
   "metadata": {},
   "outputs": [
    {
     "data": {
      "text/plain": [
       "19.42433333097718"
      ]
     },
     "execution_count": 127,
     "metadata": {},
     "output_type": "execute_result"
    }
   ],
   "source": [
    "tipsSun[\"total_bill\"].mean() - moe"
   ]
  },
  {
   "cell_type": "markdown",
   "id": "c7d460cc-1dd5-4312-8f7e-dfc09f871e0d",
   "metadata": {},
   "source": [
    "- tipsSun datasetimdeki total_bill'in average'ı üzeride oluşturduğum 95 % güven aralığımı (Ci) 19.42 - 23.4 olarak buldum.\n",
    "\n",
    "- Bu şu demek: \n",
    "\n",
    "- BENİM ELİMDE SAMPLE'LAR VAR VE SAMPLE'DAN POPÜLASYONA GİTMEYE ÇALIŞIYORUM.  \n",
    "- TÜM PAZAR GÜNLERİNDEKİ ORTALAMA total_bill'i TAHMİN ETMEYE ÇALIŞIYORUM.\n",
    "\n",
    "- Bir interval, bir aralık tahmini yapıyorum. ne üzerinden? bir nokta tahmini üzerinden, x bar (sample'ın mean'i) üzerinden. \n",
    "\n",
    "- Onun etrafında +/- margin of erorlar (hata marjları) var. Hata marjını bulurken z* devreye giriyor (confidence multiplier). onu da tablodan buluyoruz. ci = 95% olduğu için tabloda karşılık gelen z* değerini alıyorum. \n",
    "\n",
    "- (95% demek alfa'nın (1-0.95) = 5% olması demek. bu her iki tarafta alfa/2 kadarlık yani 2.5% lik bir alan demek. işte z* değerinden sonraki alan bu 2.5% lik alan oluyor.) ve z*'yı formülde yerine koyunca moe'ya ulaşıyorum.e mean +/- moe formülünden güven aralığını buluyorum.\n",
    "\n",
    "- Popülasyonun ortalaması yüzde 95 güvenirlikte bu aralıktadır diyorum.. yani popülasyona ilişkin güven aralığı 19.42-23.4 tür. \n",
    "\n",
    "- Sonuç olarak:\n",
    "\n",
    "- TÜM PAZAR GÜNLERİNDEKİ FATURALARIN ORTALAMASI YÜZDE 95 GÜVENİLİRLİKLE 19.42-23.4 ARASINDADIR. "
   ]
  },
  {
   "cell_type": "markdown",
   "id": "10b971bc-304e-4f45-8d93-c26e4d62ec42",
   "metadata": {},
   "source": [
    "9. Calculate 95% Confidence Interval around the mean by using scipy.stats"
   ]
  },
  {
   "cell_type": "code",
   "execution_count": 128,
   "id": "66dedc92-4f82-43b1-abc1-27dbd08d8515",
   "metadata": {},
   "outputs": [
    {
     "data": {
      "text/plain": [
       "(19.42433333097718, 23.395666669022827)"
      ]
     },
     "execution_count": 128,
     "metadata": {},
     "output_type": "execute_result"
    }
   ],
   "source": [
    "stats.norm.interval(0.95, loc=tipsSun[\"total_bill\"].mean(), scale=sem)\n",
    "# .interval() metodu kullanacağız. bu metod ile confidence interval ı buluyoruz.\n",
    "\n",
    "# interval(alpha, loc=0, scale=1) \n",
    "# normalde alpha : significance level (1-ci)dir. ama python da alpha yerine direkt ci yi koyuyoruz. ordan kendisi alphayı buluyor.\n",
    "# loc : ortalama (mean)\n",
    "# scale : standart error of the mean (ortalamaya ilişkin standart hata) \n"
   ]
  },
  {
   "cell_type": "code",
   "execution_count": 129,
   "id": "e9cb5245-104e-4356-85f9-22c4726fcb31",
   "metadata": {},
   "outputs": [],
   "source": [
    "# Güven aralığını küçültürsem, aralık da azalacaktır.\n",
    "# Çünkü bu, ortalama değeri daha düşük bir olasılıkla tahmin etmem anlamına geliyor.\n",
    "# Mean'in içinde bulunduğu aralığı geniş tutarsam doğru tahmin etme olasılığım artacak,\n",
    "# aralık dar olursa doğru tahmin etme olasılığım tabi ki azalacaktır."
   ]
  },
  {
   "cell_type": "markdown",
   "id": "6f98208c-0f42-4d51-bc6e-0775b6321a9b",
   "metadata": {},
   "source": [
    "### Exercise 8.7 (Large Samples)\n",
    "*Source: Wackerly, D., Mendenhall, W., & Scheaffer, R. L. (2014). Mathematical statistics with applications. Cengage Learning.*"
   ]
  },
  {
   "cell_type": "markdown",
   "id": "c96a7f9d-820c-40c1-99d2-1a45819adffc",
   "metadata": {},
   "source": [
    "- The shopping times of n = 64 randomly selected customers at a local supermarket were recorded. \n",
    "\n",
    "- The average and variance of the 64 shopping times were 33 $minutes$ and 256 $minutes^2$, respectively. \n",
    "\n",
    "- Estimate μ, the true average shopping time per customer, with a confidence coefficient of 1 − α = .90."
   ]
  },
  {
   "cell_type": "code",
   "execution_count": 130,
   "id": "d650a02f-3a34-4878-b201-d0a3af797e2b",
   "metadata": {},
   "outputs": [],
   "source": [
    "n = 64\n",
    "xbar = 33\n",
    "var = 256\n",
    "cl = 0.90\n",
    "\n",
    "s = np.sqrt(var)\n",
    "\n",
    "sem = s/np.sqrt(n)"
   ]
  },
  {
   "cell_type": "code",
   "execution_count": 131,
   "id": "1bf81dd8-445f-4670-a725-032fb7a5cabf",
   "metadata": {},
   "outputs": [
    {
     "data": {
      "text/plain": [
       "2.0"
      ]
     },
     "execution_count": 131,
     "metadata": {},
     "output_type": "execute_result"
    }
   ],
   "source": [
    "sem"
   ]
  },
  {
   "cell_type": "code",
   "execution_count": 132,
   "id": "b672aaca-ca2b-4f30-a3c4-81d76bc43dad",
   "metadata": {},
   "outputs": [
    {
     "data": {
      "text/plain": [
       "(29.710292746097053, 36.28970725390295)"
      ]
     },
     "execution_count": 132,
     "metadata": {},
     "output_type": "execute_result"
    }
   ],
   "source": [
    "stats.norm.interval(0.90, loc=xbar, scale=sem)\n",
    "# Ortalamnın üzerine inşa edebileceğim %90 güven aralığını hesaplıyoruz.\n",
    "# benim gercek ortalamam % 90 ihtimalle bu aralıkta."
   ]
  },
  {
   "cell_type": "markdown",
   "id": "cf247c47-0862-421a-a030-1813d125c330",
   "metadata": {},
   "source": [
    "#### Proof\n"
   ]
  },
  {
   "cell_type": "code",
   "execution_count": 133,
   "id": "37519481-6183-465e-9c8f-02bd963ec6b1",
   "metadata": {},
   "outputs": [
    {
     "data": {
      "text/plain": [
       "1.6448536269514722"
      ]
     },
     "execution_count": 133,
     "metadata": {},
     "output_type": "execute_result"
    }
   ],
   "source": [
    "z = stats.norm.ppf(0.95)\n",
    "z"
   ]
  },
  {
   "cell_type": "code",
   "execution_count": 134,
   "id": "985ad9c1-7d93-45b2-bc29-864e985d4317",
   "metadata": {},
   "outputs": [
    {
     "data": {
      "text/plain": [
       "3.2897072539029444"
      ]
     },
     "execution_count": 134,
     "metadata": {},
     "output_type": "execute_result"
    }
   ],
   "source": [
    "moe = z * sem\n",
    "moe # hata payı"
   ]
  },
  {
   "cell_type": "code",
   "execution_count": 135,
   "id": "b93f8e68-1453-44e1-a346-823e542bb8b0",
   "metadata": {},
   "outputs": [
    {
     "data": {
      "text/plain": [
       "29.710292746097057"
      ]
     },
     "execution_count": 135,
     "metadata": {},
     "output_type": "execute_result"
    }
   ],
   "source": [
    "low_limit = xbar - moe\n",
    "low_limit"
   ]
  },
  {
   "cell_type": "code",
   "execution_count": 136,
   "id": "4697e7e6-ce90-4199-a04b-62e25e583d97",
   "metadata": {},
   "outputs": [
    {
     "data": {
      "text/plain": [
       "36.28970725390295"
      ]
     },
     "execution_count": 136,
     "metadata": {},
     "output_type": "execute_result"
    }
   ],
   "source": [
    "high_limit = xbar + moe\n",
    "high_limit"
   ]
  },
  {
   "cell_type": "markdown",
   "id": "da77a7a1-ec4d-492b-8dfe-4bf4bb75b25d",
   "metadata": {},
   "source": [
    "### Exercise 8.11 (Small Samples)\n",
    "*Source: Wackerly, D., Mendenhall, W., & Scheaffer, R. L. (2014). Mathematical statistics with applications. Cengage Learning.*"
   ]
  },
  {
   "cell_type": "markdown",
   "id": "c107fcf7-550c-40fe-b45d-b5167d1488dc",
   "metadata": {},
   "source": [
    "A manufacturer of gunpowder has developed a new powder, which was tested in eight shells. The resulting muzzle velocities, in feet per second, were as follows:\n",
    "\n",
    "3005 2925 2935 2965\n",
    "\n",
    "2995 3005 2937 2905\n",
    "\n",
    "Find a 95% confidence interval for the true average velocity μ for shells of this type. Assume that muzzle velocities are approximately normally distributed."
   ]
  },
  {
   "cell_type": "code",
   "execution_count": 137,
   "id": "aa9fb55b-b017-484f-9785-ad630482613a",
   "metadata": {},
   "outputs": [],
   "source": [
    "x = [3005, 2925, 2935, 2965, 2995, 3005, 2937, 2905]"
   ]
  },
  {
   "cell_type": "code",
   "execution_count": 138,
   "id": "b628af58-c06d-4e78-80de-3aee3095b3ed",
   "metadata": {},
   "outputs": [],
   "source": [
    "n = 8 # sd 7 olan sample kullanacagız.\n",
    "xbar = np.mean(x) # sample mean\n",
    "s = np.std(x, ddof=1) # sample standard deviation\n",
    "# sample std sapması için ddof = 1 olmalı. pop. olasaydı yazmazdık.\n",
    "cl= 0.95 #confidence level"
   ]
  },
  {
   "cell_type": "code",
   "execution_count": 139,
   "id": "743d9872-6da7-429e-9cc9-e74d91f96841",
   "metadata": {},
   "outputs": [
    {
     "data": {
      "text/plain": [
       "(2926.3202426713874, 2991.6797573286126)"
      ]
     },
     "execution_count": 139,
     "metadata": {},
     "output_type": "execute_result"
    }
   ],
   "source": [
    "stats.t.interval(0.95, df=n-1, loc=xbar, scale=s/np.sqrt(n))"
   ]
  },
  {
   "cell_type": "code",
   "execution_count": 140,
   "id": "b07a39d3-1118-4d41-8e46-a6094b9b8f52",
   "metadata": {},
   "outputs": [
    {
     "data": {
      "text/plain": [
       "2926.3"
      ]
     },
     "execution_count": 140,
     "metadata": {},
     "output_type": "execute_result"
    }
   ],
   "source": [
    "2959 - 32.7"
   ]
  },
  {
   "cell_type": "markdown",
   "id": "12b745f5-c54c-4819-a1b6-b4630474fb6a",
   "metadata": {},
   "source": [
    "#### Proof"
   ]
  },
  {
   "cell_type": "code",
   "execution_count": 141,
   "id": "865f22e5-2cde-4791-ad6c-76b5e60b7a31",
   "metadata": {},
   "outputs": [
    {
     "data": {
      "text/plain": [
       "2.3646242510102993"
      ]
     },
     "execution_count": 141,
     "metadata": {},
     "output_type": "execute_result"
    }
   ],
   "source": [
    "t = stats.t.ppf(0.975, df=n-1)\n",
    "t"
   ]
  },
  {
   "cell_type": "code",
   "execution_count": 142,
   "id": "fe0affe5-2fbd-4a77-b32e-1253e52234ee",
   "metadata": {},
   "outputs": [
    {
     "data": {
      "text/plain": [
       "13.820274961085254"
      ]
     },
     "execution_count": 142,
     "metadata": {},
     "output_type": "execute_result"
    }
   ],
   "source": [
    "sem = s/np.sqrt(n)\n",
    "sem"
   ]
  },
  {
   "cell_type": "code",
   "execution_count": 143,
   "id": "9e3fcd24-2c17-4ba9-8cae-3a77ef4f3d4b",
   "metadata": {},
   "outputs": [
    {
     "data": {
      "text/plain": [
       "32.67975732861261"
      ]
     },
     "execution_count": 143,
     "metadata": {},
     "output_type": "execute_result"
    }
   ],
   "source": [
    "moe = t * sem\n",
    "moe"
   ]
  },
  {
   "cell_type": "code",
   "execution_count": 144,
   "id": "06142052-c72a-4b75-b3a2-3fd655a57cee",
   "metadata": {},
   "outputs": [
    {
     "data": {
      "text/plain": [
       "2926.3202426713874"
      ]
     },
     "execution_count": 144,
     "metadata": {},
     "output_type": "execute_result"
    }
   ],
   "source": [
    "low_limit = xbar - moe\n",
    "low_limit"
   ]
  },
  {
   "cell_type": "code",
   "execution_count": 145,
   "id": "59d25eef-c375-444d-8c81-ed92894a1a17",
   "metadata": {},
   "outputs": [
    {
     "data": {
      "text/plain": [
       "2991.6797573286126"
      ]
     },
     "execution_count": 145,
     "metadata": {},
     "output_type": "execute_result"
    }
   ],
   "source": [
    "high_limit = xbar + moe\n",
    "high_limit"
   ]
  },
  {
   "cell_type": "markdown",
   "id": "629809b5-ef43-4732-98c5-123cfc4d1687",
   "metadata": {},
   "source": [
    "# **:)##############################(:**"
   ]
  },
  {
   "cell_type": "markdown",
   "id": "09a20e8c-5b6c-4e03-82e6-fada424033ce",
   "metadata": {},
   "source": [
    "# **One Sample T Test**\n"
   ]
  },
  {
   "cell_type": "markdown",
   "id": "f6c5a609-9a9e-4129-b1f9-3754b1102881",
   "metadata": {},
   "source": [
    "- According to Reynolds Intellectual Ability Scales, the average VIQ (Verbal IQ scores based on the four Wechsler (1981) subtests) is about 109.\n",
    "\n",
    "- In our sample data, we have a sample of 40 cases. \n",
    "- Let's test if the average VIQ of people is significantly bigger than 109."
   ]
  },
  {
   "cell_type": "code",
   "execution_count": 146,
   "id": "e6fba9cf-a4b1-4157-a9cc-b30393f67e32",
   "metadata": {},
   "outputs": [],
   "source": [
    "# Brain size and weight and IQ data (Willerman et al. 1991)\n",
    "df = pd.read_csv(\"brain_size.csv\", sep=\";\", na_values = \".\", index_col = 0)"
   ]
  },
  {
   "cell_type": "code",
   "execution_count": 147,
   "id": "3377c0e6-89fe-4d3d-a25f-23e8d987553b",
   "metadata": {},
   "outputs": [
    {
     "data": {
      "text/html": [
       "<div>\n",
       "<style scoped>\n",
       "    .dataframe tbody tr th:only-of-type {\n",
       "        vertical-align: middle;\n",
       "    }\n",
       "\n",
       "    .dataframe tbody tr th {\n",
       "        vertical-align: top;\n",
       "    }\n",
       "\n",
       "    .dataframe thead th {\n",
       "        text-align: right;\n",
       "    }\n",
       "</style>\n",
       "<table border=\"1\" class=\"dataframe\">\n",
       "  <thead>\n",
       "    <tr style=\"text-align: right;\">\n",
       "      <th></th>\n",
       "      <th>Gender</th>\n",
       "      <th>FSIQ</th>\n",
       "      <th>VIQ</th>\n",
       "      <th>PIQ</th>\n",
       "      <th>Weight</th>\n",
       "      <th>Height</th>\n",
       "      <th>MRI_Count</th>\n",
       "    </tr>\n",
       "  </thead>\n",
       "  <tbody>\n",
       "    <tr>\n",
       "      <th>1</th>\n",
       "      <td>Female</td>\n",
       "      <td>133</td>\n",
       "      <td>132</td>\n",
       "      <td>124</td>\n",
       "      <td>118.0</td>\n",
       "      <td>64.5</td>\n",
       "      <td>816932</td>\n",
       "    </tr>\n",
       "    <tr>\n",
       "      <th>2</th>\n",
       "      <td>Male</td>\n",
       "      <td>140</td>\n",
       "      <td>150</td>\n",
       "      <td>124</td>\n",
       "      <td>NaN</td>\n",
       "      <td>72.5</td>\n",
       "      <td>1001121</td>\n",
       "    </tr>\n",
       "    <tr>\n",
       "      <th>3</th>\n",
       "      <td>Male</td>\n",
       "      <td>139</td>\n",
       "      <td>123</td>\n",
       "      <td>150</td>\n",
       "      <td>143.0</td>\n",
       "      <td>73.3</td>\n",
       "      <td>1038437</td>\n",
       "    </tr>\n",
       "    <tr>\n",
       "      <th>4</th>\n",
       "      <td>Male</td>\n",
       "      <td>133</td>\n",
       "      <td>129</td>\n",
       "      <td>128</td>\n",
       "      <td>172.0</td>\n",
       "      <td>68.8</td>\n",
       "      <td>965353</td>\n",
       "    </tr>\n",
       "    <tr>\n",
       "      <th>5</th>\n",
       "      <td>Female</td>\n",
       "      <td>137</td>\n",
       "      <td>132</td>\n",
       "      <td>134</td>\n",
       "      <td>147.0</td>\n",
       "      <td>65.0</td>\n",
       "      <td>951545</td>\n",
       "    </tr>\n",
       "  </tbody>\n",
       "</table>\n",
       "</div>"
      ],
      "text/plain": [
       "   Gender  FSIQ  VIQ  PIQ  Weight  Height  MRI_Count\n",
       "1  Female   133  132  124   118.0    64.5     816932\n",
       "2    Male   140  150  124     NaN    72.5    1001121\n",
       "3    Male   139  123  150   143.0    73.3    1038437\n",
       "4    Male   133  129  128   172.0    68.8     965353\n",
       "5  Female   137  132  134   147.0    65.0     951545"
      ]
     },
     "execution_count": 147,
     "metadata": {},
     "output_type": "execute_result"
    }
   ],
   "source": [
    "df.head()"
   ]
  },
  {
   "cell_type": "code",
   "execution_count": 148,
   "id": "10516092-59de-4c70-9342-fe7a9a2c9afb",
   "metadata": {},
   "outputs": [
    {
     "data": {
      "text/plain": [
       "112.35"
      ]
     },
     "execution_count": 148,
     "metadata": {},
     "output_type": "execute_result"
    }
   ],
   "source": [
    "# H0: mu = 109\n",
    "# H1: mu > 109\n",
    "# Calculate the mean of VIQ\n",
    "xbar = df.VIQ.mean()\n",
    "xbar"
   ]
  },
  {
   "cell_type": "code",
   "execution_count": 149,
   "id": "5691718e-02f9-4fa9-bc82-decd5cc095f0",
   "metadata": {},
   "outputs": [
    {
     "data": {
      "text/plain": [
       "23.616107063199735"
      ]
     },
     "execution_count": 149,
     "metadata": {},
     "output_type": "execute_result"
    }
   ],
   "source": [
    "# Calculate the std of VIQ\n",
    "s = df.VIQ.std()\n",
    "s"
   ]
  },
  {
   "cell_type": "code",
   "execution_count": 150,
   "id": "10f828aa-321d-42f0-a920-af350c7ce9fb",
   "metadata": {},
   "outputs": [],
   "source": [
    "# Calculate the test statistic\n",
    "t_test = (xbar - 109)/(s/np.sqrt(df.shape[0]))"
   ]
  },
  {
   "cell_type": "code",
   "execution_count": 151,
   "id": "41e67e82-e859-4b70-b8b7-89f8874062c0",
   "metadata": {},
   "outputs": [
    {
     "data": {
      "text/plain": [
       "0.8971529586323553"
      ]
     },
     "execution_count": 151,
     "metadata": {},
     "output_type": "execute_result"
    }
   ],
   "source": [
    "#test statistic\n",
    "t_test # z skorum"
   ]
  },
  {
   "cell_type": "code",
   "execution_count": 152,
   "id": "dce8f1f6-8645-4192-9ac3-02128213d0b6",
   "metadata": {},
   "outputs": [
    {
     "data": {
      "text/plain": [
       "0.18757115929257173"
      ]
     },
     "execution_count": 152,
     "metadata": {},
     "output_type": "execute_result"
    }
   ],
   "source": [
    "# Calculate p-value\n",
    "1 - stats.t.cdf(t_test, 39)"
   ]
  },
  {
   "cell_type": "code",
   "execution_count": 153,
   "id": "87d266ab-163d-4602-bec0-1f858ef9e7a8",
   "metadata": {},
   "outputs": [
    {
     "data": {
      "text/plain": [
       "Ttest_1sampResult(statistic=0.897152958632355, pvalue=0.1875711592925718)"
      ]
     },
     "execution_count": 153,
     "metadata": {},
     "output_type": "execute_result"
    }
   ],
   "source": [
    "# Use stats.ttest_1samp() to calculate the test statistic and p-value\n",
    "oneSamp = stats.ttest_1samp(df.VIQ, 109, alternative=\"greater\")\n",
    "oneSamp\n",
    "\n",
    "# default olarak alternative = two sided. bu yüzden biz alternative  = greater yapıyoruz.\n",
    "\n",
    "# soruda bana ortalama VIQ (significantly)  > 109 ? diye sorduğu için alternative = greater dedik "
   ]
  },
  {
   "cell_type": "code",
   "execution_count": 154,
   "id": "a1e9273a-1cda-49bd-846a-76398716ade3",
   "metadata": {},
   "outputs": [
    {
     "data": {
      "text/plain": [
       "0.1875711592925718"
      ]
     },
     "execution_count": 154,
     "metadata": {},
     "output_type": "execute_result"
    }
   ],
   "source": [
    "#Display p-value\n",
    "oneSamp.pvalue"
   ]
  },
  {
   "cell_type": "code",
   "execution_count": 155,
   "id": "02afee73-4d17-4c45-b5b0-eda549082188",
   "metadata": {},
   "outputs": [
    {
     "name": "stdout",
     "output_type": "stream",
     "text": [
      "Fail to reject the null\n"
     ]
    }
   ],
   "source": [
    "# Compare p-value and alpha\n",
    "alpha = 0.05\n",
    "\n",
    "if oneSamp.pvalue < alpha:\n",
    "    print(\"Reject the null\")\n",
    "else:\n",
    "    print(\"Fail to reject the null\")"
   ]
  },
  {
   "cell_type": "markdown",
   "id": "c428c1dd-ca0a-4c6f-9b2a-5e8808e51f0f",
   "metadata": {},
   "source": [
    "# **Independent Samples T Test**"
   ]
  },
  {
   "cell_type": "markdown",
   "id": "065a9d75-ce6a-474f-b0da-5f6c51cc8553",
   "metadata": {},
   "source": [
    "## Arsenic Example"
   ]
  },
  {
   "cell_type": "markdown",
   "id": "9e5c345e-1914-4fdc-8eb3-bd2fc94bcf03",
   "metadata": {},
   "source": [
    "- Arsenic concentration in public drinking water supplies is a potential health risk. \n",
    "- An article in the Arizona Republic (May 27, 2001) reported drinking water arsenic concentrations in parts per billion (ppb) for 10 metropolitan Phoenix communities and 10 communities in rural Arizona.\n",
    "- You can find the data in CSV file."
   ]
  },
  {
   "cell_type": "markdown",
   "id": "fcc509c4-1312-4782-a825-02c95e0831ec",
   "metadata": {},
   "source": [
    "Determine if there is any difference in mean arsenic concentrations between metropolitan Phoenix communities and communities in rural Arizona."
   ]
  },
  {
   "cell_type": "code",
   "execution_count": 156,
   "id": "6718bf5a-6beb-4728-9a25-00a53a6be0e7",
   "metadata": {},
   "outputs": [],
   "source": [
    "#Import arsenic dataset\n",
    "arsenic = pd.read_csv(\"arsenic.csv\")"
   ]
  },
  {
   "cell_type": "code",
   "execution_count": 157,
   "id": "24507e7c-0b8e-48b3-b434-b2b4fe9662c3",
   "metadata": {},
   "outputs": [
    {
     "data": {
      "text/html": [
       "<div>\n",
       "<style scoped>\n",
       "    .dataframe tbody tr th:only-of-type {\n",
       "        vertical-align: middle;\n",
       "    }\n",
       "\n",
       "    .dataframe tbody tr th {\n",
       "        vertical-align: top;\n",
       "    }\n",
       "\n",
       "    .dataframe thead th {\n",
       "        text-align: right;\n",
       "    }\n",
       "</style>\n",
       "<table border=\"1\" class=\"dataframe\">\n",
       "  <thead>\n",
       "    <tr style=\"text-align: right;\">\n",
       "      <th></th>\n",
       "      <th>Metro Phoenix</th>\n",
       "      <th>x1</th>\n",
       "      <th>Rural Arizona</th>\n",
       "      <th>x2</th>\n",
       "    </tr>\n",
       "  </thead>\n",
       "  <tbody>\n",
       "    <tr>\n",
       "      <th>0</th>\n",
       "      <td>Phoenix</td>\n",
       "      <td>3</td>\n",
       "      <td>Rimrock</td>\n",
       "      <td>48</td>\n",
       "    </tr>\n",
       "    <tr>\n",
       "      <th>1</th>\n",
       "      <td>Chandler</td>\n",
       "      <td>7</td>\n",
       "      <td>Goodyear</td>\n",
       "      <td>44</td>\n",
       "    </tr>\n",
       "    <tr>\n",
       "      <th>2</th>\n",
       "      <td>Gilbert</td>\n",
       "      <td>25</td>\n",
       "      <td>New River</td>\n",
       "      <td>40</td>\n",
       "    </tr>\n",
       "    <tr>\n",
       "      <th>3</th>\n",
       "      <td>Glendale</td>\n",
       "      <td>10</td>\n",
       "      <td>Apache Junction</td>\n",
       "      <td>38</td>\n",
       "    </tr>\n",
       "    <tr>\n",
       "      <th>4</th>\n",
       "      <td>Mesa</td>\n",
       "      <td>15</td>\n",
       "      <td>Buckeye</td>\n",
       "      <td>33</td>\n",
       "    </tr>\n",
       "    <tr>\n",
       "      <th>5</th>\n",
       "      <td>Paradise Valley</td>\n",
       "      <td>6</td>\n",
       "      <td>Nogales</td>\n",
       "      <td>21</td>\n",
       "    </tr>\n",
       "    <tr>\n",
       "      <th>6</th>\n",
       "      <td>Peoria</td>\n",
       "      <td>12</td>\n",
       "      <td>Black Canyon City</td>\n",
       "      <td>20</td>\n",
       "    </tr>\n",
       "    <tr>\n",
       "      <th>7</th>\n",
       "      <td>Scottsdale</td>\n",
       "      <td>25</td>\n",
       "      <td>Sedona</td>\n",
       "      <td>12</td>\n",
       "    </tr>\n",
       "    <tr>\n",
       "      <th>8</th>\n",
       "      <td>Tempe</td>\n",
       "      <td>15</td>\n",
       "      <td>Payson</td>\n",
       "      <td>1</td>\n",
       "    </tr>\n",
       "    <tr>\n",
       "      <th>9</th>\n",
       "      <td>Sun City</td>\n",
       "      <td>7</td>\n",
       "      <td>Casa Grande</td>\n",
       "      <td>18</td>\n",
       "    </tr>\n",
       "  </tbody>\n",
       "</table>\n",
       "</div>"
      ],
      "text/plain": [
       "     Metro Phoenix  x1      Rural Arizona  x2\n",
       "0          Phoenix   3            Rimrock  48\n",
       "1         Chandler   7           Goodyear  44\n",
       "2          Gilbert  25          New River  40\n",
       "3         Glendale  10    Apache Junction  38\n",
       "4             Mesa  15            Buckeye  33\n",
       "5  Paradise Valley   6            Nogales  21\n",
       "6           Peoria  12  Black Canyon City  20\n",
       "7       Scottsdale  25             Sedona  12\n",
       "8            Tempe  15             Payson   1\n",
       "9         Sun City   7        Casa Grande  18"
      ]
     },
     "execution_count": 157,
     "metadata": {},
     "output_type": "execute_result"
    }
   ],
   "source": [
    "arsenic"
   ]
  },
  {
   "cell_type": "code",
   "execution_count": 158,
   "id": "56591548-0e41-41d8-a363-6168e67afbea",
   "metadata": {},
   "outputs": [],
   "source": [
    "#H0: mu1 = mu2\n",
    "#H1: mu1 != mu2"
   ]
  },
  {
   "cell_type": "code",
   "execution_count": 159,
   "id": "a0d6586a-67a4-48db-8b5f-7eccd340160b",
   "metadata": {},
   "outputs": [
    {
     "data": {
      "text/plain": [
       "LeveneResult(statistic=7.7015516672169, pvalue=0.012482954069299166)"
      ]
     },
     "execution_count": 159,
     "metadata": {},
     "output_type": "execute_result"
    }
   ],
   "source": [
    "# Perform Levene test for equal variances\n",
    "# H0: The population variances are equal\n",
    "# H1: There is a difference between the variances in the population\n",
    "# The small p-value suggests that the populations do not have equal variances.\n",
    "leveneTest = stats.levene(arsenic.x1, arsenic.x2)\n",
    "leveneTest\n",
    "# p-value küçük cıktıgı için h0 reddedilemedi"
   ]
  },
  {
   "cell_type": "code",
   "execution_count": 160,
   "id": "46e508b0-b924-4806-98fb-f9529d0b660c",
   "metadata": {},
   "outputs": [
    {
     "data": {
      "text/plain": [
       "12.5"
      ]
     },
     "execution_count": 160,
     "metadata": {},
     "output_type": "execute_result"
    }
   ],
   "source": [
    "# average Metro Phoenix\n",
    "arsenic.x1.mean()"
   ]
  },
  {
   "cell_type": "code",
   "execution_count": 161,
   "id": "ade5241b-77e0-4c76-87f6-d629e31c1cd6",
   "metadata": {},
   "outputs": [
    {
     "data": {
      "text/plain": [
       "27.5"
      ]
     },
     "execution_count": 161,
     "metadata": {},
     "output_type": "execute_result"
    }
   ],
   "source": [
    "# average Rural Arizona\n",
    "arsenic.x2.mean()"
   ]
  },
  {
   "cell_type": "markdown",
   "id": "56769eed-3064-4e18-b68e-1007e541798c",
   "metadata": {},
   "source": [
    "Calculate the T-test for the means of two independent samples of scores."
   ]
  },
  {
   "cell_type": "code",
   "execution_count": 162,
   "id": "4d75f00e-a5dd-453a-8732-d8861d3bc52a",
   "metadata": {},
   "outputs": [],
   "source": [
    "# H0: mu1 = mu2\n",
    "# H1: mu1 != mu2"
   ]
  },
  {
   "cell_type": "code",
   "execution_count": 163,
   "id": "80335631-b6dd-47c1-9aea-a3c9be6ff63a",
   "metadata": {},
   "outputs": [],
   "source": [
    "# Calculate test statistics using stats.ttest_ind()\n",
    "indTest = stats.ttest_ind(arsenic.x1, arsenic.x2, equal_var = False) # equal_var = False ortak var."
   ]
  },
  {
   "cell_type": "code",
   "execution_count": 164,
   "id": "997eae37-33b9-442f-9d22-4854c5a93d11",
   "metadata": {},
   "outputs": [
    {
     "data": {
      "text/plain": [
       "-2.7669395785560558"
      ]
     },
     "execution_count": 164,
     "metadata": {},
     "output_type": "execute_result"
    }
   ],
   "source": [
    "indTest.statistic"
   ]
  },
  {
   "cell_type": "code",
   "execution_count": 165,
   "id": "f103723b-f318-4237-8cf4-48f885d7886a",
   "metadata": {},
   "outputs": [
    {
     "data": {
      "text/plain": [
       "0.015827284816100885"
      ]
     },
     "execution_count": 165,
     "metadata": {},
     "output_type": "execute_result"
    }
   ],
   "source": [
    "indTest.pvalue"
   ]
  },
  {
   "cell_type": "code",
   "execution_count": 166,
   "id": "236b7e9c-e8f0-41a4-b811-b78970ad198d",
   "metadata": {},
   "outputs": [
    {
     "name": "stdout",
     "output_type": "stream",
     "text": [
      "Reject the null\n"
     ]
    }
   ],
   "source": [
    "# Decision\n",
    "alpha = 0.05\n",
    "\n",
    "if indTest.pvalue < alpha:\n",
    "    print(\"Reject the null\")\n",
    "else:\n",
    "    print(\"Fail to reject the null\")"
   ]
  },
  {
   "cell_type": "code",
   "execution_count": 167,
   "id": "c94b43da-b62e-4800-be2e-5118ca651013",
   "metadata": {},
   "outputs": [],
   "source": [
    "# 0.05 anlamlılık seviyesinde yada %95 güven aralığında 2 bölgenin ortalamaları arasında istatistiksel anlamlı bir fark vardır."
   ]
  },
  {
   "cell_type": "code",
   "execution_count": 168,
   "id": "2c768d0e-489a-4b2b-9be3-40170499a71d",
   "metadata": {},
   "outputs": [
    {
     "data": {
      "text/plain": [
       "-2.10092204024096"
      ]
     },
     "execution_count": 168,
     "metadata": {},
     "output_type": "execute_result"
    }
   ],
   "source": [
    "stats.t.ppf(0.025, 18)\n",
    "\n",
    "# t∝/2 nin cdf'i 0.025 olduğundan ppf(0.025) bana t∝/2 değerini verecektir. (-2.1)\n",
    "\n",
    "# t∝/2'yi t0 değeri ile kıyaslayarak rejected Null veya fail to reject durumunu belirliyorum."
   ]
  },
  {
   "cell_type": "markdown",
   "id": "cfdffd2c-e04d-4e9c-96bb-5b6adfdafa48",
   "metadata": {},
   "source": [
    "- t∝/2 = -2.1 \n",
    "\n",
    "- t0 = -2.7669 \n",
    "\n",
    "- t0 < t∝/2  olduğundan rejected the Null!! ya da pvalue (0.012704) değerim 1-cdf(t∝/2) değeri olan 0.025 ten küçük olduğundan Reject the Null"
   ]
  },
  {
   "cell_type": "markdown",
   "id": "6b5aae7d-1b4e-4445-8eaa-d77d8c63097d",
   "metadata": {},
   "source": [
    "# **Paired (Dependent) Samples T Test**"
   ]
  },
  {
   "cell_type": "markdown",
   "id": "4733e7a6-af1e-4e55-a0ef-0b0d547e4073",
   "metadata": {},
   "source": [
    "## Prozac Data"
   ]
  },
  {
   "cell_type": "markdown",
   "id": "5bfc94b6-d921-474a-8131-ad1212bbfdd5",
   "metadata": {},
   "source": [
    "- Let us consider a simple example of what is often termed \"pre/post\" data or \"pretest/posttest\" data. \n",
    "- Suppose you wish to test the effect of Prozac on the well-being of depressed individuals, using a standardised \"well-being scale\" that sums Likert-type items to obtain a score that could range from 0 to 20. \n",
    "- Higher scores indicate greater well-being (that is, Prozac is having a positive effect). \n",
    "- While there are flaws in this design (e.g., lack of a control group) it will serve as an example of how to analyse such data."
   ]
  },
  {
   "cell_type": "markdown",
   "id": "06d83525-5f0c-4812-ba26-9d9d92cd6fa3",
   "metadata": {},
   "source": [
    "- > Determine if Prozac enhances well-being in depressed individuals. Use   0.05\n",
    "\n",
    "Soru, prozac'ın hastalar üzerinde olumlu etkisi var mı yok mu? (Ho : ilacı kullanmadan önce ve sonra hastalar üzerinde bir fark oluşmamakta)testimizi difference üzerinde yapacağız.\n",
    "\n",
    "stats.ttest_rel() fonksiyonunu kullanacağız. fonksiyona ön test ve son test değerlerini giriyoruz."
   ]
  },
  {
   "cell_type": "code",
   "execution_count": 169,
   "id": "670e9e2a-b53c-4803-96e3-2e38aee7ce89",
   "metadata": {},
   "outputs": [],
   "source": [
    "# read prozac dataset\n",
    "prozac = pd.read_csv(\"prozac.csv\")"
   ]
  },
  {
   "cell_type": "code",
   "execution_count": 170,
   "id": "4af9e48e-2b97-4a7c-a039-ab1ce85825df",
   "metadata": {},
   "outputs": [
    {
     "data": {
      "text/html": [
       "<div>\n",
       "<style scoped>\n",
       "    .dataframe tbody tr th:only-of-type {\n",
       "        vertical-align: middle;\n",
       "    }\n",
       "\n",
       "    .dataframe tbody tr th {\n",
       "        vertical-align: top;\n",
       "    }\n",
       "\n",
       "    .dataframe thead th {\n",
       "        text-align: right;\n",
       "    }\n",
       "</style>\n",
       "<table border=\"1\" class=\"dataframe\">\n",
       "  <thead>\n",
       "    <tr style=\"text-align: right;\">\n",
       "      <th></th>\n",
       "      <th>moodpre</th>\n",
       "      <th>moodpost</th>\n",
       "      <th>difference</th>\n",
       "    </tr>\n",
       "  </thead>\n",
       "  <tbody>\n",
       "    <tr>\n",
       "      <th>0</th>\n",
       "      <td>3</td>\n",
       "      <td>5</td>\n",
       "      <td>2</td>\n",
       "    </tr>\n",
       "    <tr>\n",
       "      <th>1</th>\n",
       "      <td>0</td>\n",
       "      <td>1</td>\n",
       "      <td>1</td>\n",
       "    </tr>\n",
       "    <tr>\n",
       "      <th>2</th>\n",
       "      <td>6</td>\n",
       "      <td>5</td>\n",
       "      <td>-1</td>\n",
       "    </tr>\n",
       "    <tr>\n",
       "      <th>3</th>\n",
       "      <td>7</td>\n",
       "      <td>7</td>\n",
       "      <td>0</td>\n",
       "    </tr>\n",
       "    <tr>\n",
       "      <th>4</th>\n",
       "      <td>4</td>\n",
       "      <td>10</td>\n",
       "      <td>6</td>\n",
       "    </tr>\n",
       "    <tr>\n",
       "      <th>5</th>\n",
       "      <td>3</td>\n",
       "      <td>9</td>\n",
       "      <td>6</td>\n",
       "    </tr>\n",
       "    <tr>\n",
       "      <th>6</th>\n",
       "      <td>2</td>\n",
       "      <td>7</td>\n",
       "      <td>5</td>\n",
       "    </tr>\n",
       "    <tr>\n",
       "      <th>7</th>\n",
       "      <td>1</td>\n",
       "      <td>11</td>\n",
       "      <td>10</td>\n",
       "    </tr>\n",
       "    <tr>\n",
       "      <th>8</th>\n",
       "      <td>4</td>\n",
       "      <td>8</td>\n",
       "      <td>4</td>\n",
       "    </tr>\n",
       "  </tbody>\n",
       "</table>\n",
       "</div>"
      ],
      "text/plain": [
       "   moodpre  moodpost  difference\n",
       "0        3         5           2\n",
       "1        0         1           1\n",
       "2        6         5          -1\n",
       "3        7         7           0\n",
       "4        4        10           6\n",
       "5        3         9           6\n",
       "6        2         7           5\n",
       "7        1        11          10\n",
       "8        4         8           4"
      ]
     },
     "execution_count": 170,
     "metadata": {},
     "output_type": "execute_result"
    }
   ],
   "source": [
    "prozac"
   ]
  },
  {
   "cell_type": "code",
   "execution_count": 171,
   "id": "e336ade5-7394-4d87-bcae-0d734396a9c5",
   "metadata": {},
   "outputs": [],
   "source": [
    "# H0: d_bar = 0\n",
    "# H1: d_bar > 0"
   ]
  },
  {
   "cell_type": "code",
   "execution_count": 172,
   "id": "c5f124bb-3b10-4330-b960-196d131575df",
   "metadata": {},
   "outputs": [
    {
     "data": {
      "text/plain": [
       "Ttest_relResult(statistic=3.1428571428571423, pvalue=0.006872912197394244)"
      ]
     },
     "execution_count": 172,
     "metadata": {},
     "output_type": "execute_result"
    }
   ],
   "source": [
    "# Calculate test statistics using stats.ttest_rel()  \n",
    "# moodpost - moodpre\n",
    "pairedtest = stats.ttest_rel(prozac.moodpost, prozac.moodpre, alternative=\"greater\")\n",
    "pairedtest\n",
    "\n",
    "# datasetimde son testimden ilk testi çıkartılmıştır ama python fonksiyonunda ilk testten son test çıkartılıyor.\n",
    "# o zaman  alternative = greater değil less demen lazım. buna dikkat et."
   ]
  },
  {
   "cell_type": "code",
   "execution_count": 173,
   "id": "d1468566-88d6-4347-bb20-6af35e5c9990",
   "metadata": {},
   "outputs": [
    {
     "data": {
      "text/plain": [
       "Ttest_relResult(statistic=-3.1428571428571423, pvalue=0.006872912197394244)"
      ]
     },
     "execution_count": 173,
     "metadata": {},
     "output_type": "execute_result"
    }
   ],
   "source": [
    "# moodpre - moodpost\n",
    "# H0: d_bar = 0\n",
    "# H1: d_bar < 0\n",
    "stats.ttest_rel(prozac.moodpre, prozac.moodpost, alternative=\"less\")"
   ]
  },
  {
   "cell_type": "markdown",
   "id": "4f3ad704-07c3-425d-a80c-f60f253d13d3",
   "metadata": {},
   "source": [
    "- Dataframe'imde moodpost'tan moodpre çıkartılarak fark bulunmuş.Bu yüzden stats.ttest_rel(prozac[\"moodpost\"], prozac[\"moodpre\"], alternative = \"greater\") şekilnde pre ile post u yer değiştirerek kullanabilirim veya alternative=less girerim. "
   ]
  },
  {
   "cell_type": "code",
   "execution_count": 174,
   "id": "8feb1070-6ead-4fb8-8f88-b0be2cc94481",
   "metadata": {},
   "outputs": [
    {
     "name": "stdout",
     "output_type": "stream",
     "text": [
      "Reject the Null\n"
     ]
    }
   ],
   "source": [
    "# Decision\n",
    "alpha = 0.05\n",
    "\n",
    "if pairedtest.pvalue < alpha:\n",
    "    print(\"Reject the Null\")\n",
    "else:\n",
    "    print(\"Fail to reject\")"
   ]
  },
  {
   "cell_type": "code",
   "execution_count": 175,
   "id": "bf3fa963-7d90-4b0e-be3d-76bad1494bc9",
   "metadata": {},
   "outputs": [],
   "source": [
    "# İstatistiksel test sonucu 0.05 anlamlılık seviyesinde prozac tedavisi, depresif hastalarda olumlu sonuc vermiştir."
   ]
  },
  {
   "cell_type": "code",
   "execution_count": null,
   "id": "fec9f159-714a-4ae3-84cf-f90596a487ac",
   "metadata": {},
   "outputs": [],
   "source": []
  }
 ],
 "metadata": {
  "kernelspec": {
   "display_name": "Python 3 (ipykernel)",
   "language": "python",
   "name": "python3"
  },
  "language_info": {
   "codemirror_mode": {
    "name": "ipython",
    "version": 3
   },
   "file_extension": ".py",
   "mimetype": "text/x-python",
   "name": "python",
   "nbconvert_exporter": "python",
   "pygments_lexer": "ipython3",
   "version": "3.8.3"
  }
 },
 "nbformat": 4,
 "nbformat_minor": 5
}
