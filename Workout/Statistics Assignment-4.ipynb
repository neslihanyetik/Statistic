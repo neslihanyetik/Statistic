{
 "cells": [
  {
   "cell_type": "code",
   "execution_count": 1,
   "id": "88178dac-92b6-4a48-b24b-17a92c07786e",
   "metadata": {},
   "outputs": [],
   "source": [
    "import numpy as np\n",
    "import pandas as pd\n",
    "from scipy import stats\n",
    "import matplotlib.pyplot as plt"
   ]
  },
  {
   "cell_type": "markdown",
   "id": "fa001b4a-65f6-45d2-bd84-a6aeacad1220",
   "metadata": {},
   "source": [
    "### EXERCISE 1. \n",
    "- Answer the following questions by looking at the distribution table or coding with Python.\n",
    "- 1) A salesperson has found that the probability of a sale on a single contact is approximately .3. If the salesperson contacts 10 prospects, what is the approximate probability of making at least one sale? (Wackerly, Ex.3.135)\n",
    "\n"
   ]
  },
  {
   "cell_type": "code",
   "execution_count": 4,
   "id": "d04d6a75-4e26-4e87-95fe-98083237d247",
   "metadata": {},
   "outputs": [],
   "source": [
    "n = 100\n",
    "p = 0.03\n",
    "x = 0 "
   ]
  },
  {
   "cell_type": "code",
   "execution_count": 5,
   "id": "8f5b0cc7-dbff-40bc-8375-6b49f54bc027",
   "metadata": {},
   "outputs": [
    {
     "data": {
      "text/plain": [
       "0.04755250792540563"
      ]
     },
     "execution_count": 5,
     "metadata": {},
     "output_type": "execute_result"
    }
   ],
   "source": [
    "stats.binom.pmf(x,n,p) # 0 satış yapma olasılığı"
   ]
  },
  {
   "cell_type": "code",
   "execution_count": 6,
   "id": "bac5fb48-360d-469b-b8e1-34ba2a6f085d",
   "metadata": {},
   "outputs": [
    {
     "data": {
      "text/plain": [
       "0.9524474920745943"
      ]
     },
     "execution_count": 6,
     "metadata": {},
     "output_type": "execute_result"
    }
   ],
   "source": [
    "1 - stats.binom.pmf(x,n,p) # en az 1 satış yapma olasılığı"
   ]
  },
  {
   "cell_type": "markdown",
   "id": "ebab971b-100d-4467-ab5e-38e4e41fb77e",
   "metadata": {},
   "source": [
    "- 2) Ten coins are tossed simultaneously. Find the probability of getting\n",
    "  "
   ]
  },
  {
   "cell_type": "markdown",
   "id": "8bdd8fa0-666c-4c9c-aff8-e9ef9d80f6dc",
   "metadata": {},
   "source": [
    "- (i) at least seven heads\n",
    "  "
   ]
  },
  {
   "cell_type": "code",
   "execution_count": 13,
   "id": "97f6f9bb-0f76-4d38-a677-eb34fba19775",
   "metadata": {},
   "outputs": [],
   "source": [
    "# 0 dan 7 ya kadar olan değerlerin cum. olasılığı\n",
    "p = 0.5\n",
    "n = 10\n",
    "x = 6"
   ]
  },
  {
   "cell_type": "code",
   "execution_count": 14,
   "id": "869d1370-5e08-4f59-8767-302519a02b96",
   "metadata": {},
   "outputs": [
    {
     "data": {
      "text/plain": [
       "0.828125"
      ]
     },
     "execution_count": 14,
     "metadata": {},
     "output_type": "execute_result"
    }
   ],
   "source": [
    "stats.binom.cdf(x,n,p)"
   ]
  },
  {
   "cell_type": "code",
   "execution_count": 15,
   "id": "15767d89-032d-4ae4-96af-5f2d12ade23e",
   "metadata": {},
   "outputs": [
    {
     "data": {
      "text/plain": [
       "0.171875"
      ]
     },
     "execution_count": 15,
     "metadata": {},
     "output_type": "execute_result"
    }
   ],
   "source": [
    "# en az 7 ve üzeri için\n",
    "1 - stats.binom.cdf(x, n, p)"
   ]
  },
  {
   "cell_type": "markdown",
   "id": "a76ada70-edd4-4e6c-ba81-bb5985a9e24a",
   "metadata": {},
   "source": [
    "- (ii) exactly seven heads\n",
    "  "
   ]
  },
  {
   "cell_type": "code",
   "execution_count": 7,
   "id": "012c3cce-635c-466d-9cba-5144c8f93d82",
   "metadata": {},
   "outputs": [],
   "source": [
    "n = 10\n",
    "p = 0.5\n",
    "x = 7"
   ]
  },
  {
   "cell_type": "code",
   "execution_count": 8,
   "id": "f177a032-b7e3-4063-a37c-feb7dce0132a",
   "metadata": {},
   "outputs": [
    {
     "data": {
      "text/plain": [
       "0.11718749999999999"
      ]
     },
     "execution_count": 8,
     "metadata": {},
     "output_type": "execute_result"
    }
   ],
   "source": [
    "stats.binom.pmf(x,n,p)"
   ]
  },
  {
   "cell_type": "markdown",
   "id": "0276c618-8e24-4784-8937-e289b90251bf",
   "metadata": {},
   "source": [
    "- (iii)at most seven heads\n"
   ]
  },
  {
   "cell_type": "code",
   "execution_count": 16,
   "id": "117a9a0d-5e32-4fe4-a588-a0d3fe755d44",
   "metadata": {},
   "outputs": [
    {
     "data": {
      "text/plain": [
       "0.9453125"
      ]
     },
     "execution_count": 16,
     "metadata": {},
     "output_type": "execute_result"
    }
   ],
   "source": [
    "stats.binom.cdf(7, 10, 0.5)"
   ]
  },
  {
   "cell_type": "markdown",
   "id": "a8dca577-16f4-4625-a43d-602f4599f951",
   "metadata": {},
   "source": [
    "### EXERCISE 2. \n",
    "- The cycle time for trucks hauling concrete to a highway construction site is uniformly distributed over the interval 50 to 70 minutes. What is the probability that the cycle time exceeds 65 minutes if it is known that the cycle time exceeds 55 minutes? (Wackerly, Ex.4.51)"
   ]
  },
  {
   "cell_type": "code",
   "execution_count": 17,
   "id": "1b72f65d-d57e-4eae-bf8b-311bfe0c5ecb",
   "metadata": {},
   "outputs": [],
   "source": [
    "q1 = 50\n",
    "q3 = 70\n",
    "p1 = 55\n",
    "p2 = 65"
   ]
  },
  {
   "cell_type": "code",
   "execution_count": 18,
   "id": "a6abe76f-4281-413c-96a8-1598ba86a577",
   "metadata": {},
   "outputs": [
    {
     "data": {
      "text/plain": [
       "0.3333333333333333"
      ]
     },
     "execution_count": 18,
     "metadata": {},
     "output_type": "execute_result"
    }
   ],
   "source": [
    "(1-stats.uniform.cdf(p2, q1, q3-q1)) / (1-stats.uniform.cdf(p1, q1 , q3-q1))"
   ]
  },
  {
   "cell_type": "markdown",
   "id": "ccf444da-e1de-4b55-849e-975b974a3719",
   "metadata": {},
   "source": [
    "### EXERCISE 3. \n",
    "- The width of bolts of fabric is normally distributed with mean 950 mm (millimeters) and standard deviation 10 mm.\n"
   ]
  },
  {
   "cell_type": "markdown",
   "id": "b7d82900-4867-4b75-83be-17ce699894fe",
   "metadata": {},
   "source": [
    "- 1) What is the probability that a randomly chosen bolt has a width of between 947 and 958mm?\n"
   ]
  },
  {
   "cell_type": "code",
   "execution_count": 23,
   "id": "35e5f2ca-14e3-4082-9ca1-a320aa0c29b0",
   "metadata": {},
   "outputs": [],
   "source": [
    "mu = 950\n",
    "sigma = 10 \n",
    "x1 = 947\n",
    "x2 = 958"
   ]
  },
  {
   "cell_type": "code",
   "execution_count": 24,
   "id": "2424258c-e5ac-4cb3-9c59-0b13251d6c47",
   "metadata": {},
   "outputs": [
    {
     "data": {
      "text/plain": [
       "0.406056023605556"
      ]
     },
     "execution_count": 24,
     "metadata": {},
     "output_type": "execute_result"
    }
   ],
   "source": [
    "stats.norm.cdf(x2, mu, sigma) - stats.norm.cdf(x1, mu, sigma)"
   ]
  },
  {
   "cell_type": "markdown",
   "id": "f61b7445-893f-4f73-aaaa-0eb1fd612c38",
   "metadata": {},
   "source": [
    "- 2) What is the appropriate value for C such that a randomly chosen bolt has a width less than C with probability .8531? (Wackerly, Ex.4.73)\n"
   ]
  },
  {
   "cell_type": "code",
   "execution_count": 25,
   "id": "ea27d762-a316-4505-9cfc-c4631e43d5a7",
   "metadata": {},
   "outputs": [],
   "source": [
    "mu = 950\n",
    "sigma = 10\n",
    "p = 0.8531"
   ]
  },
  {
   "cell_type": "code",
   "execution_count": 26,
   "id": "c5be0ac7-7b0f-494c-b331-2bd9a3b0852b",
   "metadata": {},
   "outputs": [
    {
     "data": {
      "text/plain": [
       "960.4982190962642"
      ]
     },
     "execution_count": 26,
     "metadata": {},
     "output_type": "execute_result"
    }
   ],
   "source": [
    "stats.norm.ppf(p, mu, sigma)\n"
   ]
  },
  {
   "cell_type": "markdown",
   "id": "17ededcc-6877-461b-b96e-501dffa9716d",
   "metadata": {},
   "source": [
    "### EXERCISE 4. \n",
    "- Suppose scores on exams in statistics are normally distributed with an unknown population mean and a population standard deviation of 3 points. A random sample of 36 scores is taken and gives a sample mean (sample mean score) of 68. Find a confidence interval estimate for the population mean exam score (the mean score on all exams). Find a 90% confidence interval for the true (population) mean of statistics exam scores.\n",
    "\n"
   ]
  },
  {
   "cell_type": "code",
   "execution_count": 27,
   "id": "4fc077c2-2575-4e87-bb9f-61b1952d1333",
   "metadata": {},
   "outputs": [],
   "source": [
    "n = 36\n",
    "mu = 68\n",
    "std = 3\n",
    "ci = 0.90"
   ]
  },
  {
   "cell_type": "code",
   "execution_count": 28,
   "id": "f8fe9bd8-d67f-465f-898e-551bcbcfaf69",
   "metadata": {},
   "outputs": [
    {
     "data": {
      "text/plain": [
       "0.5"
      ]
     },
     "execution_count": 28,
     "metadata": {},
     "output_type": "execute_result"
    }
   ],
   "source": [
    "sem = std / np.sqrt(n)\n",
    "sem"
   ]
  },
  {
   "cell_type": "code",
   "execution_count": 29,
   "id": "76562964-f593-42d9-823b-215d6d48fb62",
   "metadata": {},
   "outputs": [
    {
     "data": {
      "text/plain": [
       "(67.17757318652427, 68.82242681347573)"
      ]
     },
     "execution_count": 29,
     "metadata": {},
     "output_type": "execute_result"
    }
   ],
   "source": [
    "stats.norm.interval(ci,mu,sem)"
   ]
  },
  {
   "cell_type": "markdown",
   "id": "2f486844-7d31-45d6-b355-4189a2b3ada9",
   "metadata": {},
   "source": [
    "### EXERCISE 5.  \n",
    "- What is the normal body temperature for healthy humans? A random sample of 130 healthy human body temperatures provided by Allen Shoemaker yielded 98.25 degrees and standard deviation 0.73 degrees.\n"
   ]
  },
  {
   "cell_type": "markdown",
   "id": "5cd16d97-0e05-4cc2-8348-bfc2ad4135d2",
   "metadata": {},
   "source": [
    "- 1) Give a 99% confidence interval for the average body temperature of healthy people.\n"
   ]
  },
  {
   "cell_type": "code",
   "execution_count": 30,
   "id": "fd9bf73d-c5dd-4b94-92af-219a337b1d39",
   "metadata": {},
   "outputs": [],
   "source": [
    "n = 130\n",
    "mean = 98.25\n",
    "std = 0.73\n",
    "ci = 0.99"
   ]
  },
  {
   "cell_type": "code",
   "execution_count": 31,
   "id": "1c7b4e22-853a-44b3-b802-ec17441f8555",
   "metadata": {},
   "outputs": [
    {
     "data": {
      "text/plain": [
       "0.06402523540941313"
      ]
     },
     "execution_count": 31,
     "metadata": {},
     "output_type": "execute_result"
    }
   ],
   "source": [
    "sem = std / np.sqrt(n)\n",
    "sem"
   ]
  },
  {
   "cell_type": "code",
   "execution_count": 32,
   "id": "5a8f9f95-c71e-403d-a604-38a30fcef733",
   "metadata": {},
   "outputs": [
    {
     "data": {
      "text/plain": [
       "(98.08508192246582, 98.41491807753418)"
      ]
     },
     "execution_count": 32,
     "metadata": {},
     "output_type": "execute_result"
    }
   ],
   "source": [
    "stats.norm.interval(ci,mean,sem)"
   ]
  },
  {
   "cell_type": "markdown",
   "id": "e3e162cb-e782-4252-bb1d-07f9c1ba61f5",
   "metadata": {},
   "source": [
    "- 2) Does the confidence interval obtained in part (a) contain the value 98.6 degrees, the accepted average temperature cited by physicians and others? What conclusions can you draw? (Wackerly, Ex.8.60)"
   ]
  },
  {
   "cell_type": "code",
   "execution_count": null,
   "id": "5c87ef62-945a-4067-8a60-5b806b0cc38f",
   "metadata": {},
   "outputs": [],
   "source": []
  },
  {
   "cell_type": "code",
   "execution_count": null,
   "id": "b5260199-0cd6-4481-b9dc-6dc664c28533",
   "metadata": {},
   "outputs": [],
   "source": []
  },
  {
   "cell_type": "code",
   "execution_count": null,
   "id": "9324b88d-72bd-4fd7-b365-e5a191d581ca",
   "metadata": {},
   "outputs": [],
   "source": []
  }
 ],
 "metadata": {
  "kernelspec": {
   "display_name": "Python 3 (ipykernel)",
   "language": "python",
   "name": "python3"
  },
  "language_info": {
   "codemirror_mode": {
    "name": "ipython",
    "version": 3
   },
   "file_extension": ".py",
   "mimetype": "text/x-python",
   "name": "python",
   "nbconvert_exporter": "python",
   "pygments_lexer": "ipython3",
   "version": "3.8.3"
  }
 },
 "nbformat": 4,
 "nbformat_minor": 5
}
